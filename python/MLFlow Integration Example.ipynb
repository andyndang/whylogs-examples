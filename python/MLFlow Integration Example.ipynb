{
 "cells": [
  {
   "cell_type": "markdown",
   "metadata": {},
   "source": [
    "# MLFlow + whylogs Integration\n",
    "\n",
    "In this notebook, we will explore the [MLFlow](https://mlflow.org/) integration in `whylogs`.\n",
    "\n",
    "This example uses the data from [MLflow's tutorial](https://mlflow.org/docs/latest/tutorials-and-examples/tutorial.html) for demonstration purpose.\n",
    "\n",
    "This tutorial showcases how you can use the whylogs integration to:\n",
    "* Capture data while training a linear regression model in `mlflow`\n",
    "* Extract whylogs data back into in-memory format from MLflow backend\n",
    "* Visualize the data from the backend\n",
    "\n",
    "For more information about the data and the MLflow, please read the [MLflow's tutorial](https://mlflow.org/docs/latest/tutorials-and-examples/tutorial.html).\n",
    "\n",
    "# What You'll Need\n",
    "To run this tutorial, you'll need to:\n",
    "* Install [conda](https://conda.io/projects/conda/en/latest/user-guide/install/index.html)\n",
    "* Create a new environment with conda via `conda create --name mlflow python=3.7`\n",
    "    * You'll need to activate the environment with `conda activate whylogs-notebooks`\n",
    "    * You'll need to install pip into the Conda environment `conda install pip`\n",
    "    * To make the environment work with Jupyter notebooks, run `pip install ipykernel` to install the kernel module\n",
    "    * Install the environment as a Jupyter notebook kernel via `python -m ipykernel install --user --name=mlflow`\n",
    "* Install MLflow with scikit-learn. You can install this via `pip install mlflow[extras]`\n",
    "* Install whylogs with matplotlib. You can install this via `pip install whylogs[viz]`\n",
    "* You can install MLflow (via `pip install mlflow`), whylogs (via `pip install whylogs`), scikit-learn (via `pip install scikit-learn`), and matplotlib (via `pip install matplotlib`) separately.\n",
    "* In your ntoebook, ensure you select `mlflow` as your kernel\n",
    "\n",
    "# Setup the environment\n",
    "First, we want to filter out noisy warnings"
   ]
  },
  {
   "cell_type": "code",
   "execution_count": 1,
   "metadata": {},
   "outputs": [],
   "source": [
    "import warnings\n",
    "warnings.filterwarnings(\"ignore\")\n",
    "warnings.simplefilter('ignore')\n"
   ]
  },
  {
   "cell_type": "code",
   "execution_count": 2,
   "metadata": {},
   "outputs": [],
   "source": [
    "import glob\n",
    "import random\n",
    "import time\n",
    "\n",
    "import pandas as pd\n",
    "import numpy as np\n",
    "import mlflow\n",
    "import whylogs\n",
    "\n",
    "from sklearn.metrics import mean_absolute_error\n",
    "from sklearn.model_selection import train_test_split\n",
    "from sklearn.linear_model import ElasticNet"
   ]
  },
  {
   "cell_type": "markdown",
   "metadata": {},
   "source": [
    "# Enable whylogs Integration\n",
    "\n",
    "Enable WhyLogs in MLFlow to allow storage of WhyLogs statistical profiles. This method returns `True` if whylogs is able to patch MLflow"
   ]
  },
  {
   "cell_type": "code",
   "execution_count": 3,
   "metadata": {},
   "outputs": [
    {
     "data": {
      "text/plain": [
       "True"
      ]
     },
     "execution_count": 3,
     "metadata": {},
     "output_type": "execute_result"
    }
   ],
   "source": [
    "assert whylogs.__version__ >= \"0.1.4\" # we need 0.1.4 or later for MLFlow integration\n",
    "whylogs.enable_mlflow()"
   ]
  },
  {
   "cell_type": "markdown",
   "metadata": {},
   "source": [
    "# Dataset prepration\n",
    "\n",
    "Download and prepare the UCI wine quality dataset. We sample test dataset further to represent batches of datasets produced every second."
   ]
  },
  {
   "cell_type": "code",
   "execution_count": 4,
   "metadata": {},
   "outputs": [],
   "source": [
    "# Load wine quality dataset\n",
    "data_url = \"http://archive.ics.uci.edu/ml/machine-learning-databases/wine-quality/winequality-red.csv\"\n",
    "data = pd.read_csv(data_url, sep=\";\")\n",
    "\n",
    "# Split the data into training and test sets\n",
    "train, test = train_test_split(data)\n",
    "\n",
    "# Relocate predicted variable \"quality\" to y vectors\n",
    "train_x = train.drop([\"quality\"], axis=1).reset_index(drop=True)\n",
    "test_x = test.drop([\"quality\"], axis=1).reset_index(drop=True)\n",
    "train_y = train[[\"quality\"]].reset_index(drop=True)\n",
    "test_y = test[[\"quality\"]].reset_index(drop=True)\n",
    "\n",
    "# Sample from test data to collect \"daily\" data\n",
    "subset_test_x = []\n",
    "subset_test_y = []\n",
    "for i in range(20):\n",
    "    indices = random.sample(range(len(test)), 5)\n",
    "    subset_test_x.append(test_x.loc[indices, :])\n",
    "    subset_test_y.append(test_y.loc[indices, :])"
   ]
  },
  {
   "cell_type": "markdown",
   "metadata": {},
   "source": [
    "# Train the model\n",
    "Train an ElasticNet model using scikit-learn.\n",
    "\n",
    "We then run this model for each of the batches of data, logging the model parameters, MAE evaluation metric, and WhyLogs dataset (from Pandas DataFrame).\n",
    "\n",
    "Note that whylogs data is automatically logged when `mlflow.end_run()` is called (implicitly or explicitly)."
   ]
  },
  {
   "cell_type": "code",
   "execution_count": 5,
   "metadata": {},
   "outputs": [
    {
     "name": "stdout",
     "output_type": "stream",
     "text": [
      "Elasticnet model ({'alpha': 1.0, 'l1_ratio': 2.0}):\n",
      "  Subset 0, mean absolute error: 0.8722692599052502\n",
      "  Subset 1, mean absolute error: 0.5297901323496811\n",
      "  Subset 2, mean absolute error: 0.546909491944797\n",
      "  Subset 3, mean absolute error: 0.8771724270439499\n",
      "  Subset 4, mean absolute error: 0.913281295435134\n",
      "  Subset 5, mean absolute error: 0.7651314675495765\n",
      "  Subset 6, mean absolute error: 0.47614062473679086\n",
      "  Subset 7, mean absolute error: 0.3634183288593441\n",
      "  Subset 8, mean absolute error: 0.4722692599052502\n",
      "  Subset 9, mean absolute error: 0.666594347215875\n",
      "  Subset 10, mean absolute error: 0.6462183578291745\n",
      "  Subset 11, mean absolute error: 0.6918735037412747\n",
      "  Subset 12, mean absolute error: 0.5052869337343442\n",
      "  Subset 13, mean absolute error: 0.7383046075634379\n",
      "  Subset 14, mean absolute error: 1.0307413232217868\n",
      "  Subset 15, mean absolute error: 0.559456554860201\n",
      "  Subset 16, mean absolute error: 0.42739007190321326\n",
      "  Subset 17, mean absolute error: 0.8513773693649705\n",
      "  Subset 18, mean absolute error: 0.706062891644407\n",
      "  Subset 19, mean absolute error: 0.6201674557530991\n"
     ]
    }
   ],
   "source": [
    "model_params = {\"alpha\": 1.0,\n",
    "                \"l1_ratio\": 2.0}\n",
    "\n",
    "lr = ElasticNet(**model_params)\n",
    "lr.fit(train_x, train_y)\n",
    "print(\"Elasticnet model (%s):\" % (model_params))\n",
    "\n",
    "for i in range(20):\n",
    "    predicted_output = lr.predict(subset_test_x[i])\n",
    "    \n",
    "    mae = mean_absolute_error(subset_test_y[i], predicted_output)\n",
    "    print(\"  Subset %.0f, mean absolute error: %s\" % (i, mae))\n",
    "    \n",
    "    mlflow.log_params(model_params)\n",
    "    mlflow.log_metric(\"mae\", mae)\n",
    "    \n",
    "    mlflow.whylogs.log_pandas(train)\n",
    "    mlflow.end_run()\n",
    "    \n",
    "    time.sleep(1)"
   ]
  },
  {
   "cell_type": "markdown",
   "metadata": {},
   "source": [
    "# Accessing whylogs Data From Your Experiement\n",
    "Let's now collect the `experiment_id` from MLFlow for the previous experiment. Note that we have only 1 experiment in this demo."
   ]
  },
  {
   "cell_type": "code",
   "execution_count": 6,
   "metadata": {},
   "outputs": [],
   "source": [
    "client = mlflow.tracking.MlflowClient()\n",
    "experiment = client.list_experiments()[0]"
   ]
  },
  {
   "cell_type": "markdown",
   "metadata": {},
   "source": [
    "Inside of MLFlow, the profiles are stored as *artifacts*. These can be retrieved in the same way you store MLFlow projects, parameters, and metrics. Here is one example using MLFlow's Python API."
   ]
  },
  {
   "cell_type": "code",
   "execution_count": 7,
   "metadata": {},
   "outputs": [
    {
     "data": {
      "text/plain": [
       "[<RunInfo: artifact_uri='file:///Volumes/Workspace/whylogs-examples/python/mlruns/0/8c0b800b35cd49168984eec8be9bc8e8/artifacts', end_time=1603478931330, experiment_id='0', lifecycle_stage='active', run_id='8c0b800b35cd49168984eec8be9bc8e8', run_uuid='8c0b800b35cd49168984eec8be9bc8e8', start_time=1603478931074, status='FINISHED', user_id='andy'>,\n",
       " <RunInfo: artifact_uri='file:///Volumes/Workspace/whylogs-examples/python/mlruns/0/86ce66986a9d423cbc48a2848d68deb2/artifacts', end_time=1603478930062, experiment_id='0', lifecycle_stage='active', run_id='86ce66986a9d423cbc48a2848d68deb2', run_uuid='86ce66986a9d423cbc48a2848d68deb2', start_time=1603478929804, status='FINISHED', user_id='andy'>,\n",
       " <RunInfo: artifact_uri='file:///Volumes/Workspace/whylogs-examples/python/mlruns/0/3b60eb2698ee43398888952d9fe609cb/artifacts', end_time=1603478928795, experiment_id='0', lifecycle_stage='active', run_id='3b60eb2698ee43398888952d9fe609cb', run_uuid='3b60eb2698ee43398888952d9fe609cb', start_time=1603478928534, status='FINISHED', user_id='andy'>,\n",
       " <RunInfo: artifact_uri='file:///Volumes/Workspace/whylogs-examples/python/mlruns/0/46c48ac9d07c46e49de5b9c512941724/artifacts', end_time=1603478927527, experiment_id='0', lifecycle_stage='active', run_id='46c48ac9d07c46e49de5b9c512941724', run_uuid='46c48ac9d07c46e49de5b9c512941724', start_time=1603478927267, status='FINISHED', user_id='andy'>,\n",
       " <RunInfo: artifact_uri='file:///Volumes/Workspace/whylogs-examples/python/mlruns/0/6c017654009a46aebe5c68e57fe2df77/artifacts', end_time=1603478926257, experiment_id='0', lifecycle_stage='active', run_id='6c017654009a46aebe5c68e57fe2df77', run_uuid='6c017654009a46aebe5c68e57fe2df77', start_time=1603478925985, status='FINISHED', user_id='andy'>,\n",
       " <RunInfo: artifact_uri='file:///Volumes/Workspace/whylogs-examples/python/mlruns/0/84e901ecff9f4b6bacec21f71dc4e820/artifacts', end_time=1603478924977, experiment_id='0', lifecycle_stage='active', run_id='84e901ecff9f4b6bacec21f71dc4e820', run_uuid='84e901ecff9f4b6bacec21f71dc4e820', start_time=1603478924707, status='FINISHED', user_id='andy'>,\n",
       " <RunInfo: artifact_uri='file:///Volumes/Workspace/whylogs-examples/python/mlruns/0/5ea32e9a02174acfa1222163744e432e/artifacts', end_time=1603478923696, experiment_id='0', lifecycle_stage='active', run_id='5ea32e9a02174acfa1222163744e432e', run_uuid='5ea32e9a02174acfa1222163744e432e', start_time=1603478923403, status='FINISHED', user_id='andy'>,\n",
       " <RunInfo: artifact_uri='file:///Volumes/Workspace/whylogs-examples/python/mlruns/0/20ae1f228d6d43e78ce5509358590adb/artifacts', end_time=1603478922395, experiment_id='0', lifecycle_stage='active', run_id='20ae1f228d6d43e78ce5509358590adb', run_uuid='20ae1f228d6d43e78ce5509358590adb', start_time=1603478922142, status='FINISHED', user_id='andy'>,\n",
       " <RunInfo: artifact_uri='file:///Volumes/Workspace/whylogs-examples/python/mlruns/0/c507370b3f264804861fa5fb3e80a3f5/artifacts', end_time=1603478921131, experiment_id='0', lifecycle_stage='active', run_id='c507370b3f264804861fa5fb3e80a3f5', run_uuid='c507370b3f264804861fa5fb3e80a3f5', start_time=1603478920882, status='FINISHED', user_id='andy'>,\n",
       " <RunInfo: artifact_uri='file:///Volumes/Workspace/whylogs-examples/python/mlruns/0/56cd241e14ef40fd9905e7111456359f/artifacts', end_time=1603478919875, experiment_id='0', lifecycle_stage='active', run_id='56cd241e14ef40fd9905e7111456359f', run_uuid='56cd241e14ef40fd9905e7111456359f', start_time=1603478919622, status='FINISHED', user_id='andy'>,\n",
       " <RunInfo: artifact_uri='file:///Volumes/Workspace/whylogs-examples/python/mlruns/0/64397689c153425cb67564f199bb2c0c/artifacts', end_time=1603478918611, experiment_id='0', lifecycle_stage='active', run_id='64397689c153425cb67564f199bb2c0c', run_uuid='64397689c153425cb67564f199bb2c0c', start_time=1603478918352, status='FINISHED', user_id='andy'>,\n",
       " <RunInfo: artifact_uri='file:///Volumes/Workspace/whylogs-examples/python/mlruns/0/39927d5fa1c34d4b82c2af63e688b36a/artifacts', end_time=1603478917345, experiment_id='0', lifecycle_stage='active', run_id='39927d5fa1c34d4b82c2af63e688b36a', run_uuid='39927d5fa1c34d4b82c2af63e688b36a', start_time=1603478917096, status='FINISHED', user_id='andy'>,\n",
       " <RunInfo: artifact_uri='file:///Volumes/Workspace/whylogs-examples/python/mlruns/0/ddf86fb8e27e43139c7664576f7b3a5b/artifacts', end_time=1603478916088, experiment_id='0', lifecycle_stage='active', run_id='ddf86fb8e27e43139c7664576f7b3a5b', run_uuid='ddf86fb8e27e43139c7664576f7b3a5b', start_time=1603478915815, status='FINISHED', user_id='andy'>,\n",
       " <RunInfo: artifact_uri='file:///Volumes/Workspace/whylogs-examples/python/mlruns/0/09a9a7ac4a844eeaa45f7d2722fcf950/artifacts', end_time=1603478914808, experiment_id='0', lifecycle_stage='active', run_id='09a9a7ac4a844eeaa45f7d2722fcf950', run_uuid='09a9a7ac4a844eeaa45f7d2722fcf950', start_time=1603478914558, status='FINISHED', user_id='andy'>,\n",
       " <RunInfo: artifact_uri='file:///Volumes/Workspace/whylogs-examples/python/mlruns/0/e09dc98d90244006ae77179ae1018726/artifacts', end_time=1603478913549, experiment_id='0', lifecycle_stage='active', run_id='e09dc98d90244006ae77179ae1018726', run_uuid='e09dc98d90244006ae77179ae1018726', start_time=1603478913290, status='FINISHED', user_id='andy'>,\n",
       " <RunInfo: artifact_uri='file:///Volumes/Workspace/whylogs-examples/python/mlruns/0/1dcb5fac1321486e8c0c53fa699953cf/artifacts', end_time=1603478912281, experiment_id='0', lifecycle_stage='active', run_id='1dcb5fac1321486e8c0c53fa699953cf', run_uuid='1dcb5fac1321486e8c0c53fa699953cf', start_time=1603478912028, status='FINISHED', user_id='andy'>,\n",
       " <RunInfo: artifact_uri='file:///Volumes/Workspace/whylogs-examples/python/mlruns/0/15f957030c9f4a63a60f0ed477599850/artifacts', end_time=1603478911015, experiment_id='0', lifecycle_stage='active', run_id='15f957030c9f4a63a60f0ed477599850', run_uuid='15f957030c9f4a63a60f0ed477599850', start_time=1603478910734, status='FINISHED', user_id='andy'>,\n",
       " <RunInfo: artifact_uri='file:///Volumes/Workspace/whylogs-examples/python/mlruns/0/13f09f72bf65470b8117c71bd81d836b/artifacts', end_time=1603478909724, experiment_id='0', lifecycle_stage='active', run_id='13f09f72bf65470b8117c71bd81d836b', run_uuid='13f09f72bf65470b8117c71bd81d836b', start_time=1603478909463, status='FINISHED', user_id='andy'>,\n",
       " <RunInfo: artifact_uri='file:///Volumes/Workspace/whylogs-examples/python/mlruns/0/58f6909727e24612b020276ee2f0f203/artifacts', end_time=1603478908455, experiment_id='0', lifecycle_stage='active', run_id='58f6909727e24612b020276ee2f0f203', run_uuid='58f6909727e24612b020276ee2f0f203', start_time=1603478908204, status='FINISHED', user_id='andy'>,\n",
       " <RunInfo: artifact_uri='file:///Volumes/Workspace/whylogs-examples/python/mlruns/0/47f7c3e16dca46079c3ef38660aefa85/artifacts', end_time=1603478907194, experiment_id='0', lifecycle_stage='active', run_id='47f7c3e16dca46079c3ef38660aefa85', run_uuid='47f7c3e16dca46079c3ef38660aefa85', start_time=1603478906930, status='FINISHED', user_id='andy'>]"
      ]
     },
     "execution_count": 7,
     "metadata": {},
     "output_type": "execute_result"
    }
   ],
   "source": [
    "whylogs.mlflow.list_whylogs_runs(experiment_id=\"0\")"
   ]
  },
  {
   "cell_type": "markdown",
   "metadata": {},
   "source": [
    "# Visualizing whylogs Data\n",
    "Our integration allows you to quickly collect the statistical profiles produced during experimentation."
   ]
  },
  {
   "cell_type": "code",
   "execution_count": 8,
   "metadata": {
    "scrolled": true
   },
   "outputs": [
    {
     "data": {
      "text/plain": [
       "[<whylogs.core.datasetprofile.DatasetProfile at 0x7faff08faf50>,\n",
       " <whylogs.core.datasetprofile.DatasetProfile at 0x7fafe222cfd0>,\n",
       " <whylogs.core.datasetprofile.DatasetProfile at 0x7fafe2235750>,\n",
       " <whylogs.core.datasetprofile.DatasetProfile at 0x7fafe222ce10>,\n",
       " <whylogs.core.datasetprofile.DatasetProfile at 0x7fafe224bd10>,\n",
       " <whylogs.core.datasetprofile.DatasetProfile at 0x7fafe22359d0>,\n",
       " <whylogs.core.datasetprofile.DatasetProfile at 0x7fafe2262f10>,\n",
       " <whylogs.core.datasetprofile.DatasetProfile at 0x7fafe224bb10>,\n",
       " <whylogs.core.datasetprofile.DatasetProfile at 0x7fafd127b590>,\n",
       " <whylogs.core.datasetprofile.DatasetProfile at 0x7fafd1284cd0>,\n",
       " <whylogs.core.datasetprofile.DatasetProfile at 0x7fafd1291890>,\n",
       " <whylogs.core.datasetprofile.DatasetProfile at 0x7fafd1291d10>,\n",
       " <whylogs.core.datasetprofile.DatasetProfile at 0x7fafd12a87d0>,\n",
       " <whylogs.core.datasetprofile.DatasetProfile at 0x7fafd127ba10>,\n",
       " <whylogs.core.datasetprofile.DatasetProfile at 0x7fafc0c2fb50>,\n",
       " <whylogs.core.datasetprofile.DatasetProfile at 0x7fafd12a8ad0>,\n",
       " <whylogs.core.datasetprofile.DatasetProfile at 0x7fafc0c2fa90>,\n",
       " <whylogs.core.datasetprofile.DatasetProfile at 0x7fafc0c2ff50>,\n",
       " <whylogs.core.datasetprofile.DatasetProfile at 0x7fafc0c5ef10>,\n",
       " <whylogs.core.datasetprofile.DatasetProfile at 0x7fafc0c5ed10>]"
      ]
     },
     "execution_count": 8,
     "metadata": {},
     "output_type": "execute_result"
    }
   ],
   "source": [
    "mlflow_profiles = whylogs.mlflow.get_experiment_profiles(experiment.experiment_id)\n",
    "mlflow_profiles"
   ]
  },
  {
   "cell_type": "markdown",
   "metadata": {},
   "source": [
    "You can then use `whylogs.viz` to easily produce visualizations for the WhyLogs profile data."
   ]
  },
  {
   "cell_type": "code",
   "execution_count": 9,
   "metadata": {},
   "outputs": [],
   "source": [
    "from whylogs.viz import ProfileVisualizer\n",
    "\n",
    "viz = ProfileVisualizer()\n",
    "viz.set_profiles(mlflow_profiles)"
   ]
  },
  {
   "cell_type": "code",
   "execution_count": 10,
   "metadata": {},
   "outputs": [
    {
     "data": {
      "image/png": "[encoded data removed]",
      "text/plain": [
       "<Figure size 720x144 with 1 Axes>"
      ]
     },
     "execution_count": 10,
     "metadata": {},
     "output_type": "execute_result"
    }
   ],
   "source": [
    "viz.plot_distribution(\"free sulfur dioxide\", ts_format=\"%d-%b-%y %H:%M:%S\")"
   ]
  },
  {
   "cell_type": "code",
   "execution_count": 11,
   "metadata": {},
   "outputs": [
    {
     "data": {
      "image/png": "[encoded data removed]",
      "text/plain": [
       "<Figure size 720x144 with 1 Axes>"
      ]
     },
     "execution_count": 11,
     "metadata": {},
     "output_type": "execute_result"
    }
   ],
   "source": [
    "viz.plot_uniqueness(\"free sulfur dioxide\", ts_format=\"%d-%b-%y %H:%M:%S\")"
   ]
  },
  {
   "cell_type": "code",
   "execution_count": 12,
   "metadata": {},
   "outputs": [
    {
     "data": {
      "image/png": "[encoded data removed]",
      "text/plain": [
       "<Figure size 720x144 with 1 Axes>"
      ]
     },
     "execution_count": 12,
     "metadata": {},
     "output_type": "execute_result"
    }
   ],
   "source": [
    "viz.plot_missing_values(\"free sulfur dioxide\", ts_format=\"%d-%b-%y %H:%M:%S\")"
   ]
  },
  {
   "cell_type": "code",
   "execution_count": 13,
   "metadata": {},
   "outputs": [
    {
     "data": {
      "image/png": "[encoded data removed]",
      "text/plain": [
       "<Figure size 720x144 with 1 Axes>"
      ]
     },
     "execution_count": 13,
     "metadata": {},
     "output_type": "execute_result"
    }
   ],
   "source": [
    "viz.plot_data_types(\"free sulfur dioxide\", ts_format=\"%d-%b-%y %H:%M:%S\")"
   ]
  },
  {
   "cell_type": "markdown",
   "metadata": {},
   "source": [
    "whylogs data can be visualized in more complex ways. Check out [whylogs.viz](https://whylogs.readthedocs.io/en/latest/autoapi/whylogs/viz/index.html) for API details.\n",
    "\n",
    "In addition, you can also check out how **WhyLabs** can help you visualize the data at [our sandbox](http://try.whylabsapp.com/)"
   ]
  }
 ],
 "metadata": {
  "kernelspec": {
   "display_name": "mlflow",
   "language": "python",
   "name": "mlflow"
  },
  "language_info": {
   "codemirror_mode": {
    "name": "ipython",
    "version": 3
   },
   "file_extension": ".py",
   "mimetype": "text/x-python",
   "name": "python",
   "nbconvert_exporter": "python",
   "pygments_lexer": "ipython3",
   "version": "3.7.9"
  }
 },
 "nbformat": 4,
 "nbformat_minor": 4
}
