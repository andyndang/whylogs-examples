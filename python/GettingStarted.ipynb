{
 "cells": [
  {
   "cell_type": "markdown",
   "metadata": {},
   "source": [
    "In this notebook, we will learn about the whylogs Python library and its output. \n",
    "\n",
    "# Getting Started with whylogs Profile Summaries\n",
    "\n",
    "We will first read sample raw data into Pandas from a file and explore that data briefly. To run whylogs, we will then import the whylogs library, initialize a logging session with whylogs, and create a profile for our data, producing a whylogs profile summary. Finally, we will explore some of the profile summary features.\n",
    "\n",
    "To get started, we will import a few standard data science Python libraries."
   ]
  },
  {
   "cell_type": "code",
   "execution_count": 3,
   "metadata": {},
   "outputs": [
    {
     "name": "stdout",
     "output_type": "stream",
     "text": [
      "Collecting boto3\n",
      "  Using cached boto3-1.17.29-py2.py3-none-any.whl (131 kB)\n",
      "Requirement already satisfied: certifi in /Users/andy/miniconda3/envs/demo/lib/python3.8/site-packages (from -r requirements.txt (line 2)) (2020.12.5)\n",
      "Collecting chardet\n",
      "  Using cached chardet-4.0.0-py2.py3-none-any.whl (178 kB)\n",
      "Collecting matplotlib\n",
      "  Using cached matplotlib-3.3.4-cp38-cp38-macosx_10_9_x86_64.whl (8.5 MB)\n",
      "Collecting numpy\n",
      "  Downloading numpy-1.20.1-cp38-cp38-macosx_10_9_x86_64.whl (16.0 MB)\n",
      "\u001b[K     |████████████████████████████████| 16.0 MB 1.8 MB/s eta 0:00:01    |████████▏                       | 4.1 MB 2.6 MB/s eta 0:00:05\n",
      "\u001b[?25hCollecting whylogs\n",
      "  Using cached whylogs-0.3.2-py2.py3-none-any.whl (102 kB)\n",
      "Collecting s3transfer<0.4.0,>=0.3.0\n",
      "  Using cached s3transfer-0.3.4-py2.py3-none-any.whl (69 kB)\n",
      "Collecting botocore<1.21.0,>=1.20.29\n",
      "  Downloading botocore-1.20.29-py2.py3-none-any.whl (7.3 MB)\n",
      "\u001b[K     |████████████████████████████████| 7.3 MB 3.9 MB/s eta 0:00:01\n",
      "\u001b[?25hCollecting jmespath<1.0.0,>=0.7.1\n",
      "  Using cached jmespath-0.10.0-py2.py3-none-any.whl (24 kB)\n",
      "Requirement already satisfied: python-dateutil<3.0.0,>=2.1 in /Users/andy/miniconda3/envs/demo/lib/python3.8/site-packages (from botocore<1.21.0,>=1.20.29->boto3->-r requirements.txt (line 1)) (2.8.1)\n",
      "Collecting urllib3<1.27,>=1.25.4\n",
      "  Using cached urllib3-1.26.4-py2.py3-none-any.whl (153 kB)\n",
      "Requirement already satisfied: six>=1.5 in /Users/andy/miniconda3/envs/demo/lib/python3.8/site-packages (from python-dateutil<3.0.0,>=2.1->botocore<1.21.0,>=1.20.29->boto3->-r requirements.txt (line 1)) (1.15.0)\n",
      "Collecting pyparsing!=2.0.4,!=2.1.2,!=2.1.6,>=2.0.3\n",
      "  Using cached pyparsing-2.4.7-py2.py3-none-any.whl (67 kB)\n",
      "Collecting cycler>=0.10\n",
      "  Using cached cycler-0.10.0-py2.py3-none-any.whl (6.5 kB)\n",
      "Collecting pillow>=6.2.0\n",
      "  Downloading Pillow-8.1.2-cp38-cp38-macosx_10_10_x86_64.whl (2.2 MB)\n",
      "\u001b[K     |████████████████████████████████| 2.2 MB 7.1 MB/s eta 0:00:01\n",
      "\u001b[?25hCollecting kiwisolver>=1.0.1\n",
      "  Using cached kiwisolver-1.3.1-cp38-cp38-macosx_10_9_x86_64.whl (61 kB)\n",
      "Collecting scikit-learn==0.24.1\n",
      "  Using cached scikit_learn-0.24.1-cp38-cp38-macosx_10_13_x86_64.whl (7.2 MB)\n",
      "Collecting pyyaml>=5.3.1\n",
      "  Using cached PyYAML-5.4.1-cp38-cp38-macosx_10_9_x86_64.whl (253 kB)\n",
      "Collecting click>=7.1.2\n",
      "  Using cached click-7.1.2-py2.py3-none-any.whl (82 kB)\n",
      "Collecting marshmallow>=3.7.1\n",
      "  Using cached marshmallow-3.10.0-py2.py3-none-any.whl (46 kB)\n",
      "Collecting puremagic==1.10\n",
      "  Using cached puremagic-1.10-py3-none-any.whl (31 kB)\n",
      "Collecting tqdm==4.54.0\n",
      "  Using cached tqdm-4.54.0-py2.py3-none-any.whl (69 kB)\n",
      "Collecting pandas>1.0\n",
      "  Downloading pandas-1.2.3-cp38-cp38-macosx_10_9_x86_64.whl (10.5 MB)\n",
      "\u001b[K     |████████████████████████████████| 10.5 MB 1.1 MB/s eta 0:00:01\n",
      "\u001b[?25hCollecting xlrd==2.0.1\n",
      "  Using cached xlrd-2.0.1-py2.py3-none-any.whl (96 kB)\n",
      "Collecting openpyxl==3.0.6\n",
      "  Using cached openpyxl-3.0.6-py2.py3-none-any.whl (242 kB)\n",
      "Collecting smart-open==4.1.2\n",
      "  Using cached smart_open-4.1.2-py3-none-any.whl (111 kB)\n",
      "Collecting whylabs-datasketches>=2.2.0b1\n",
      "  Using cached whylabs_datasketches-2.2.0b1-cp38-cp38-macosx_10_15_x86_64.whl (392 kB)\n",
      "Collecting protobuf>=3.12.2\n",
      "  Using cached protobuf-3.15.6-cp38-cp38-macosx_10_9_x86_64.whl (1.0 MB)\n",
      "Collecting jdcal\n",
      "  Using cached jdcal-1.4.1-py2.py3-none-any.whl (9.5 kB)\n",
      "Collecting et-xmlfile\n",
      "  Using cached et_xmlfile-1.0.1-py3-none-any.whl\n",
      "Collecting argparse\n",
      "  Using cached argparse-1.4.0-py2.py3-none-any.whl (23 kB)\n",
      "Collecting scipy>=0.19.1\n",
      "  Using cached scipy-1.6.1-cp38-cp38-macosx_10_9_x86_64.whl (30.8 MB)\n",
      "Collecting threadpoolctl>=2.0.0\n",
      "  Using cached threadpoolctl-2.1.0-py3-none-any.whl (12 kB)\n",
      "Collecting joblib>=0.11\n",
      "  Using cached joblib-1.0.1-py3-none-any.whl (303 kB)\n",
      "Collecting pytz>=2017.3\n",
      "  Using cached pytz-2021.1-py2.py3-none-any.whl (510 kB)\n",
      "Installing collected packages: urllib3, jmespath, numpy, botocore, threadpoolctl, scipy, s3transfer, pytz, joblib, jdcal, et-xmlfile, argparse, xlrd, whylabs-datasketches, tqdm, smart-open, scikit-learn, pyyaml, pyparsing, puremagic, protobuf, pillow, pandas, openpyxl, marshmallow, kiwisolver, cycler, click, boto3, whylogs, matplotlib, chardet\n",
      "Successfully installed argparse-1.4.0 boto3-1.17.29 botocore-1.20.29 chardet-4.0.0 click-7.1.2 cycler-0.10.0 et-xmlfile-1.0.1 jdcal-1.4.1 jmespath-0.10.0 joblib-1.0.1 kiwisolver-1.3.1 marshmallow-3.10.0 matplotlib-3.3.4 numpy-1.20.1 openpyxl-3.0.6 pandas-1.2.3 pillow-8.1.2 protobuf-3.15.6 puremagic-1.10 pyparsing-2.4.7 pytz-2021.1 pyyaml-5.4.1 s3transfer-0.3.4 scikit-learn-0.24.1 scipy-1.6.1 smart-open-4.1.2 threadpoolctl-2.1.0 tqdm-4.54.0 urllib3-1.26.4 whylabs-datasketches-2.2.0b1 whylogs-0.3.2 xlrd-2.0.1\n",
      "Note: you may need to restart the kernel to use updated packages.\n"
     ]
    }
   ],
   "source": [
    "pip install -r requirements.txt"
   ]
  },
  {
   "cell_type": "code",
   "execution_count": 4,
   "metadata": {},
   "outputs": [],
   "source": [
    "%matplotlib inline\n",
    "import warnings\n",
    "warnings.simplefilter(\"ignore\")"
   ]
  },
  {
   "cell_type": "code",
   "execution_count": 5,
   "metadata": {},
   "outputs": [],
   "source": [
    "import datetime\n",
    "import os.path\n",
    "import pandas as pd"
   ]
  },
  {
   "cell_type": "markdown",
   "metadata": {},
   "source": [
    "whylogs allows you to generate and store key characteristics of a growing dataset efficiently. In machine learning, datasets often consist of both input features and outputs of the model. In deployed systems, you often have a relatively static training dataset as well as a growing dataset from model input and output at inference time.\n",
    "\n",
    "## Downloading and exploring the raw Lending Club data\n",
    "\n",
    "In our case, we will download and explore a sample from the Lending Club dataset before logging a whylogs profile summary. Lending Club is a peer-to-peer lending and alternative investing website on which members can apply for personal loans and invest in personal loans to other Lending Club members. The company published a dataset with information spanning several years. This particular dataset contains only the accepted loans."
   ]
  },
  {
   "cell_type": "markdown",
   "metadata": {},
   "source": [
    "Our sample input data is stored in `lending_club_demo.csv`. You may use the Jupyter command `!` in front of cell contents to execute a Bash command (e.g. `cd`) to navigate if necessary."
   ]
  },
  {
   "cell_type": "code",
   "execution_count": 6,
   "metadata": {},
   "outputs": [],
   "source": [
    "data_file = \"lending_club_demo.csv\""
   ]
  },
  {
   "cell_type": "markdown",
   "metadata": {},
   "source": [
    "Let's read that data file into a Pandas dataframe and look at the entries for *January 2017*.\n",
    "\n",
    "Each row refers to a particular loan instance, while each column refers to a variable in our dataset."
   ]
  },
  {
   "cell_type": "code",
   "execution_count": 7,
   "metadata": {},
   "outputs": [
    {
     "data": {
      "text/html": [
       "<div>\n",
       "<style scoped>\n",
       "    .dataframe tbody tr th:only-of-type {\n",
       "        vertical-align: middle;\n",
       "    }\n",
       "\n",
       "    .dataframe tbody tr th {\n",
       "        vertical-align: top;\n",
       "    }\n",
       "\n",
       "    .dataframe thead th {\n",
       "        text-align: right;\n",
       "    }\n",
       "</style>\n",
       "<table border=\"1\" class=\"dataframe\">\n",
       "  <thead>\n",
       "    <tr style=\"text-align: right;\">\n",
       "      <th></th>\n",
       "      <th>id</th>\n",
       "      <th>member_id</th>\n",
       "      <th>loan_amnt</th>\n",
       "      <th>funded_amnt</th>\n",
       "      <th>funded_amnt_inv</th>\n",
       "      <th>int_rate</th>\n",
       "      <th>installment</th>\n",
       "      <th>annual_inc</th>\n",
       "      <th>dti</th>\n",
       "      <th>delinq_2yrs</th>\n",
       "      <th>...</th>\n",
       "      <th>deferral_term</th>\n",
       "      <th>hardship_amount</th>\n",
       "      <th>hardship_length</th>\n",
       "      <th>hardship_dpd</th>\n",
       "      <th>orig_projected_additional_accrued_interest</th>\n",
       "      <th>hardship_payoff_balance_amount</th>\n",
       "      <th>hardship_last_payment_amount</th>\n",
       "      <th>settlement_amount</th>\n",
       "      <th>settlement_percentage</th>\n",
       "      <th>settlement_term</th>\n",
       "    </tr>\n",
       "  </thead>\n",
       "  <tbody>\n",
       "    <tr>\n",
       "      <th>count</th>\n",
       "      <td>3.090000e+02</td>\n",
       "      <td>0.0</td>\n",
       "      <td>309.000000</td>\n",
       "      <td>309.000000</td>\n",
       "      <td>309.000000</td>\n",
       "      <td>309.000000</td>\n",
       "      <td>309.000000</td>\n",
       "      <td>309.000000</td>\n",
       "      <td>309.000000</td>\n",
       "      <td>309.000000</td>\n",
       "      <td>...</td>\n",
       "      <td>0.0</td>\n",
       "      <td>0.0</td>\n",
       "      <td>0.0</td>\n",
       "      <td>0.0</td>\n",
       "      <td>0.0</td>\n",
       "      <td>0.0</td>\n",
       "      <td>0.0</td>\n",
       "      <td>0.0</td>\n",
       "      <td>0.0</td>\n",
       "      <td>0.0</td>\n",
       "    </tr>\n",
       "    <tr>\n",
       "      <th>mean</th>\n",
       "      <td>9.637541e+07</td>\n",
       "      <td>NaN</td>\n",
       "      <td>14511.407767</td>\n",
       "      <td>14511.407767</td>\n",
       "      <td>14506.957929</td>\n",
       "      <td>13.479159</td>\n",
       "      <td>446.427476</td>\n",
       "      <td>80151.667184</td>\n",
       "      <td>18.561489</td>\n",
       "      <td>0.372168</td>\n",
       "      <td>...</td>\n",
       "      <td>NaN</td>\n",
       "      <td>NaN</td>\n",
       "      <td>NaN</td>\n",
       "      <td>NaN</td>\n",
       "      <td>NaN</td>\n",
       "      <td>NaN</td>\n",
       "      <td>NaN</td>\n",
       "      <td>NaN</td>\n",
       "      <td>NaN</td>\n",
       "      <td>NaN</td>\n",
       "    </tr>\n",
       "    <tr>\n",
       "      <th>std</th>\n",
       "      <td>1.648219e+06</td>\n",
       "      <td>NaN</td>\n",
       "      <td>9011.801950</td>\n",
       "      <td>9011.801950</td>\n",
       "      <td>9011.257397</td>\n",
       "      <td>5.168002</td>\n",
       "      <td>280.454947</td>\n",
       "      <td>51337.356187</td>\n",
       "      <td>9.955114</td>\n",
       "      <td>0.929671</td>\n",
       "      <td>...</td>\n",
       "      <td>NaN</td>\n",
       "      <td>NaN</td>\n",
       "      <td>NaN</td>\n",
       "      <td>NaN</td>\n",
       "      <td>NaN</td>\n",
       "      <td>NaN</td>\n",
       "      <td>NaN</td>\n",
       "      <td>NaN</td>\n",
       "      <td>NaN</td>\n",
       "      <td>NaN</td>\n",
       "    </tr>\n",
       "    <tr>\n",
       "      <th>min</th>\n",
       "      <td>6.895309e+07</td>\n",
       "      <td>NaN</td>\n",
       "      <td>1000.000000</td>\n",
       "      <td>1000.000000</td>\n",
       "      <td>1000.000000</td>\n",
       "      <td>5.320000</td>\n",
       "      <td>32.930000</td>\n",
       "      <td>10000.000000</td>\n",
       "      <td>0.290000</td>\n",
       "      <td>0.000000</td>\n",
       "      <td>...</td>\n",
       "      <td>NaN</td>\n",
       "      <td>NaN</td>\n",
       "      <td>NaN</td>\n",
       "      <td>NaN</td>\n",
       "      <td>NaN</td>\n",
       "      <td>NaN</td>\n",
       "      <td>NaN</td>\n",
       "      <td>NaN</td>\n",
       "      <td>NaN</td>\n",
       "      <td>NaN</td>\n",
       "    </tr>\n",
       "    <tr>\n",
       "      <th>25%</th>\n",
       "      <td>9.627937e+07</td>\n",
       "      <td>NaN</td>\n",
       "      <td>7500.000000</td>\n",
       "      <td>7500.000000</td>\n",
       "      <td>7500.000000</td>\n",
       "      <td>10.490000</td>\n",
       "      <td>235.260000</td>\n",
       "      <td>49680.000000</td>\n",
       "      <td>12.480000</td>\n",
       "      <td>0.000000</td>\n",
       "      <td>...</td>\n",
       "      <td>NaN</td>\n",
       "      <td>NaN</td>\n",
       "      <td>NaN</td>\n",
       "      <td>NaN</td>\n",
       "      <td>NaN</td>\n",
       "      <td>NaN</td>\n",
       "      <td>NaN</td>\n",
       "      <td>NaN</td>\n",
       "      <td>NaN</td>\n",
       "      <td>NaN</td>\n",
       "    </tr>\n",
       "    <tr>\n",
       "      <th>50%</th>\n",
       "      <td>9.653771e+07</td>\n",
       "      <td>NaN</td>\n",
       "      <td>12000.000000</td>\n",
       "      <td>12000.000000</td>\n",
       "      <td>12000.000000</td>\n",
       "      <td>12.740000</td>\n",
       "      <td>370.480000</td>\n",
       "      <td>66000.000000</td>\n",
       "      <td>18.100000</td>\n",
       "      <td>0.000000</td>\n",
       "      <td>...</td>\n",
       "      <td>NaN</td>\n",
       "      <td>NaN</td>\n",
       "      <td>NaN</td>\n",
       "      <td>NaN</td>\n",
       "      <td>NaN</td>\n",
       "      <td>NaN</td>\n",
       "      <td>NaN</td>\n",
       "      <td>NaN</td>\n",
       "      <td>NaN</td>\n",
       "      <td>NaN</td>\n",
       "    </tr>\n",
       "    <tr>\n",
       "      <th>75%</th>\n",
       "      <td>9.681416e+07</td>\n",
       "      <td>NaN</td>\n",
       "      <td>20000.000000</td>\n",
       "      <td>20000.000000</td>\n",
       "      <td>20000.000000</td>\n",
       "      <td>15.990000</td>\n",
       "      <td>582.260000</td>\n",
       "      <td>98000.000000</td>\n",
       "      <td>23.350000</td>\n",
       "      <td>0.000000</td>\n",
       "      <td>...</td>\n",
       "      <td>NaN</td>\n",
       "      <td>NaN</td>\n",
       "      <td>NaN</td>\n",
       "      <td>NaN</td>\n",
       "      <td>NaN</td>\n",
       "      <td>NaN</td>\n",
       "      <td>NaN</td>\n",
       "      <td>NaN</td>\n",
       "      <td>NaN</td>\n",
       "      <td>NaN</td>\n",
       "    </tr>\n",
       "    <tr>\n",
       "      <th>max</th>\n",
       "      <td>9.752976e+07</td>\n",
       "      <td>NaN</td>\n",
       "      <td>40000.000000</td>\n",
       "      <td>40000.000000</td>\n",
       "      <td>40000.000000</td>\n",
       "      <td>30.940000</td>\n",
       "      <td>1400.690000</td>\n",
       "      <td>400000.000000</td>\n",
       "      <td>109.220000</td>\n",
       "      <td>8.000000</td>\n",
       "      <td>...</td>\n",
       "      <td>NaN</td>\n",
       "      <td>NaN</td>\n",
       "      <td>NaN</td>\n",
       "      <td>NaN</td>\n",
       "      <td>NaN</td>\n",
       "      <td>NaN</td>\n",
       "      <td>NaN</td>\n",
       "      <td>NaN</td>\n",
       "      <td>NaN</td>\n",
       "      <td>NaN</td>\n",
       "    </tr>\n",
       "  </tbody>\n",
       "</table>\n",
       "<p>8 rows × 114 columns</p>\n",
       "</div>"
      ],
      "text/plain": [
       "                 id  member_id     loan_amnt   funded_amnt  funded_amnt_inv  \\\n",
       "count  3.090000e+02        0.0    309.000000    309.000000       309.000000   \n",
       "mean   9.637541e+07        NaN  14511.407767  14511.407767     14506.957929   \n",
       "std    1.648219e+06        NaN   9011.801950   9011.801950      9011.257397   \n",
       "min    6.895309e+07        NaN   1000.000000   1000.000000      1000.000000   \n",
       "25%    9.627937e+07        NaN   7500.000000   7500.000000      7500.000000   \n",
       "50%    9.653771e+07        NaN  12000.000000  12000.000000     12000.000000   \n",
       "75%    9.681416e+07        NaN  20000.000000  20000.000000     20000.000000   \n",
       "max    9.752976e+07        NaN  40000.000000  40000.000000     40000.000000   \n",
       "\n",
       "         int_rate  installment     annual_inc         dti  delinq_2yrs  ...  \\\n",
       "count  309.000000   309.000000     309.000000  309.000000   309.000000  ...   \n",
       "mean    13.479159   446.427476   80151.667184   18.561489     0.372168  ...   \n",
       "std      5.168002   280.454947   51337.356187    9.955114     0.929671  ...   \n",
       "min      5.320000    32.930000   10000.000000    0.290000     0.000000  ...   \n",
       "25%     10.490000   235.260000   49680.000000   12.480000     0.000000  ...   \n",
       "50%     12.740000   370.480000   66000.000000   18.100000     0.000000  ...   \n",
       "75%     15.990000   582.260000   98000.000000   23.350000     0.000000  ...   \n",
       "max     30.940000  1400.690000  400000.000000  109.220000     8.000000  ...   \n",
       "\n",
       "       deferral_term  hardship_amount  hardship_length  hardship_dpd  \\\n",
       "count            0.0              0.0              0.0           0.0   \n",
       "mean             NaN              NaN              NaN           NaN   \n",
       "std              NaN              NaN              NaN           NaN   \n",
       "min              NaN              NaN              NaN           NaN   \n",
       "25%              NaN              NaN              NaN           NaN   \n",
       "50%              NaN              NaN              NaN           NaN   \n",
       "75%              NaN              NaN              NaN           NaN   \n",
       "max              NaN              NaN              NaN           NaN   \n",
       "\n",
       "       orig_projected_additional_accrued_interest  \\\n",
       "count                                         0.0   \n",
       "mean                                          NaN   \n",
       "std                                           NaN   \n",
       "min                                           NaN   \n",
       "25%                                           NaN   \n",
       "50%                                           NaN   \n",
       "75%                                           NaN   \n",
       "max                                           NaN   \n",
       "\n",
       "       hardship_payoff_balance_amount  hardship_last_payment_amount  \\\n",
       "count                             0.0                           0.0   \n",
       "mean                              NaN                           NaN   \n",
       "std                               NaN                           NaN   \n",
       "min                               NaN                           NaN   \n",
       "25%                               NaN                           NaN   \n",
       "50%                               NaN                           NaN   \n",
       "75%                               NaN                           NaN   \n",
       "max                               NaN                           NaN   \n",
       "\n",
       "       settlement_amount  settlement_percentage  settlement_term  \n",
       "count                0.0                    0.0              0.0  \n",
       "mean                 NaN                    NaN              NaN  \n",
       "std                  NaN                    NaN              NaN  \n",
       "min                  NaN                    NaN              NaN  \n",
       "25%                  NaN                    NaN              NaN  \n",
       "50%                  NaN                    NaN              NaN  \n",
       "75%                  NaN                    NaN              NaN  \n",
       "max                  NaN                    NaN              NaN  \n",
       "\n",
       "[8 rows x 114 columns]"
      ]
     },
     "execution_count": 7,
     "metadata": {},
     "output_type": "execute_result"
    }
   ],
   "source": [
    "full_data = pd.read_csv(os.path.join(data_file))\n",
    "data = full_data[full_data['issue_d'] == 'Jan-2017']\n",
    "\n",
    "data.describe()"
   ]
  },
  {
   "cell_type": "markdown",
   "metadata": {},
   "source": [
    "### Interesting Lending Club dataset variables\n",
    "\n",
    "**`emp_length` (categorical, string)**:\n",
    "> length of employment in years as text entries\n",
    "\n",
    "**`annual_inc` (numeric)**:\n",
    "> the self-reported annual income provided by the borrower during registration\n",
    "\n",
    "**`dti` (numeric)**:\n",
    "> ratio calculated using the borrower’s total monthly debt payments over their total debt obligations, excluding mortgage and the requested LC loan, divided by the borrower’s self-reported monthly income\n",
    "\n",
    "**`issue_d` (timestamp, string)**:\n",
    "> the month (and year) which the loan was funded -- useful for backfilling data"
   ]
  },
  {
   "cell_type": "markdown",
   "metadata": {},
   "source": [
    "## Running whylogs for logging a single dataset\n",
    "\n",
    "Let's import a function from whylogs that will allow us to create a logging session.\n",
    "\n",
    "This session can be connected with multiple writers that output the results of our profiling in JSON, a flat CSV, or binary protobuf format. These profiles can be stored locally or in an AWS S3 bucket in the cloud. Additional writing functionality will be added over time.\n",
    "\n",
    "Let's create a default session below."
   ]
  },
  {
   "cell_type": "code",
   "execution_count": 8,
   "metadata": {},
   "outputs": [],
   "source": [
    "from whylogs import get_or_create_session\n",
    "\n",
    "session = get_or_create_session()"
   ]
  },
  {
   "cell_type": "markdown",
   "metadata": {},
   "source": [
    "# Quickly log a dataframe\n",
    "\n",
    "You can call `log_dataframe` to quickly log a Pandas dataframe"
   ]
  },
  {
   "cell_type": "code",
   "execution_count": 9,
   "metadata": {},
   "outputs": [
    {
     "data": {
      "text/plain": [
       "<whylogs.core.datasetprofile.DatasetProfile at 0x7ffaf1c56d00>"
      ]
     },
     "execution_count": 9,
     "metadata": {},
     "output_type": "execute_result"
    }
   ],
   "source": [
    "session.log_dataframe(data.head(100), 'demo')"
   ]
  },
  {
   "cell_type": "markdown",
   "metadata": {},
   "source": [
    "# whylogs output\n",
    "\n",
    "Now that we've logged our dataset, we can see the output of the whylogs profiling process in the newly created directory. WhyLogs logger creates an `output` directory within our original directory. This directory in turn contains folders with various summaries for our sample dataset called `demo`."
   ]
  },
  {
   "cell_type": "code",
   "execution_count": 10,
   "metadata": {},
   "outputs": [
    {
     "name": "stdout",
     "output_type": "stream",
     "text": [
      "Current working directory: /Volumes/Workspace/whylogs-examples/python\n"
     ]
    }
   ],
   "source": [
    "print(\"Current working directory:\", os.getcwd())"
   ]
  },
  {
   "cell_type": "code",
   "execution_count": 11,
   "metadata": {},
   "outputs": [
    {
     "name": "stdout",
     "output_type": "stream",
     "text": [
      "whylogs-output/demo/dataset_summary/freq_numbers/dataset_summary-batch.json\n",
      "whylogs-output/demo/dataset_summary/json/dataset_summary-batch.json\n",
      "whylogs-output/demo/dataset_summary/flat_table/dataset_summary-batch.csv\n",
      "whylogs-output/demo/dataset_summary/histogram/dataset_summary-batch.json\n",
      "whylogs-output/demo/dataset_summary/frequent_strings/dataset_summary-batch.json\n",
      "whylogs-output/demo/dataset_profile/protobuf/datase_profile-batch.bin\n",
      "whylogs-output/another-dataset/dataset_summary/freq_numbers/dataset_summary-1600732800000.json\n",
      "whylogs-output/another-dataset/dataset_summary/json/dataset_summary-1600732800000.json\n",
      "whylogs-output/another-dataset/dataset_summary/flat_table/dataset_summary-1600732800000.csv\n",
      "whylogs-output/another-dataset/dataset_summary/histogram/dataset_summary-1600732800000.json\n",
      "whylogs-output/another-dataset/dataset_summary/frequent_strings/dataset_summary-1600732800000.json\n",
      "whylogs-output/another-dataset/dataset_profile/protobuf/datase_profile-1600732800000.bin\n"
     ]
    }
   ],
   "source": [
    "!find whylogs-output -type f"
   ]
  },
  {
   "cell_type": "markdown",
   "metadata": {},
   "source": [
    "## Using the Logger API\n",
    "The Logger API can be used to log data profiles to memory as well. This data stays in memory until you call `.close()`, either explicitly or using the `with` statement."
   ]
  },
  {
   "cell_type": "code",
   "execution_count": 12,
   "metadata": {},
   "outputs": [],
   "source": [
    "with session.logger(dataset_name=\"another-dataset\", dataset_timestamp=datetime.datetime(2020, 9, 22, 0, 0)) as logger:\n",
    "    logger.log_dataframe(data.head(100))"
   ]
  },
  {
   "cell_type": "markdown",
   "metadata": {},
   "source": [
    "In this example, you can see that the dataset has the timestamp added as the suffix."
   ]
  },
  {
   "cell_type": "code",
   "execution_count": 13,
   "metadata": {},
   "outputs": [
    {
     "name": "stdout",
     "output_type": "stream",
     "text": [
      "whylogs-output/demo/dataset_summary/freq_numbers/dataset_summary-batch.json\n",
      "whylogs-output/demo/dataset_summary/json/dataset_summary-batch.json\n",
      "whylogs-output/demo/dataset_summary/flat_table/dataset_summary-batch.csv\n",
      "whylogs-output/demo/dataset_summary/histogram/dataset_summary-batch.json\n",
      "whylogs-output/demo/dataset_summary/frequent_strings/dataset_summary-batch.json\n",
      "whylogs-output/demo/dataset_profile/protobuf/datase_profile-batch.bin\n",
      "whylogs-output/another-dataset/dataset_summary/freq_numbers/dataset_summary-1600732800000.json\n",
      "whylogs-output/another-dataset/dataset_summary/json/dataset_summary-1600732800000.json\n",
      "whylogs-output/another-dataset/dataset_summary/flat_table/dataset_summary-1600732800000.csv\n",
      "whylogs-output/another-dataset/dataset_summary/histogram/dataset_summary-1600732800000.json\n",
      "whylogs-output/another-dataset/dataset_summary/frequent_strings/dataset_summary-1600732800000.json\n",
      "whylogs-output/another-dataset/dataset_profile/protobuf/datase_profile-1600732800000.bin\n"
     ]
    }
   ],
   "source": [
    "!find whylogs-output -type f"
   ]
  },
  {
   "cell_type": "markdown",
   "metadata": {},
   "source": [
    "## Interacting with Dataset Profiles\n",
    "\n",
    "Instead of interacting with the Logger, which writes to disk, sometimes you may want to use a `DatasetProfile` object directly.\n",
    "\n",
    "You can use `session.new_profile` to create an empty profile:"
   ]
  },
  {
   "cell_type": "code",
   "execution_count": 14,
   "metadata": {},
   "outputs": [],
   "source": [
    "profile = session.new_profile(dataset_name=\"in-memory\", \n",
    "                              dataset_timestamp=datetime.datetime(2020, 9, 22, 0, 0))"
   ]
  },
  {
   "cell_type": "markdown",
   "metadata": {},
   "source": [
    "## Profiling a DataFrame"
   ]
  },
  {
   "cell_type": "code",
   "execution_count": 15,
   "metadata": {},
   "outputs": [],
   "source": [
    "profile.track_dataframe(data)"
   ]
  },
  {
   "cell_type": "markdown",
   "metadata": {},
   "source": [
    "This DatasetProfile object, stored in the `profile` variable, can now be referenced from Python.\n",
    "\n",
    "This object contains helpful information about the profile, such as the session ID, the dates associated with both the data and the session, as well as user-specified metadata and tags."
   ]
  },
  {
   "cell_type": "markdown",
   "metadata": {},
   "source": [
    "First, let's transform the dataset profile into the flat summary form. Unlike the binary `protobuf.bin` file and the hierarchical `whylogs.json` file that was written using the logger, the summary format makes it much easier to analyze and run data science processes on the data. This structure is much more flat, a table format or a single depth dictionary format organized by variable.\n",
    "\n",
    "These less hierarchical formats were also created with the `log_dataframe` functionality and can be found in the `summary_summary.csv`, `summary_histogram.json` and `summary_strings.json` files."
   ]
  },
  {
   "cell_type": "code",
   "execution_count": 16,
   "metadata": {},
   "outputs": [],
   "source": [
    "summaries = profile.flat_summary()"
   ]
  },
  {
   "cell_type": "markdown",
   "metadata": {},
   "source": [
    "Let's first take a look at the overall summary for the profiled dataset."
   ]
  },
  {
   "cell_type": "code",
   "execution_count": 17,
   "metadata": {
    "scrolled": true
   },
   "outputs": [
    {
     "data": {
      "text/html": [
       "<div>\n",
       "<style scoped>\n",
       "    .dataframe tbody tr th:only-of-type {\n",
       "        vertical-align: middle;\n",
       "    }\n",
       "\n",
       "    .dataframe tbody tr th {\n",
       "        vertical-align: top;\n",
       "    }\n",
       "\n",
       "    .dataframe thead th {\n",
       "        text-align: right;\n",
       "    }\n",
       "</style>\n",
       "<table border=\"1\" class=\"dataframe\">\n",
       "  <thead>\n",
       "    <tr style=\"text-align: right;\">\n",
       "      <th></th>\n",
       "      <th>column</th>\n",
       "      <th>count</th>\n",
       "      <th>null_count</th>\n",
       "      <th>bool_count</th>\n",
       "      <th>numeric_count</th>\n",
       "      <th>max</th>\n",
       "      <th>mean</th>\n",
       "      <th>min</th>\n",
       "      <th>stddev</th>\n",
       "      <th>nunique_numbers</th>\n",
       "      <th>...</th>\n",
       "      <th>nunique_str_upper</th>\n",
       "      <th>quantile_0.0000</th>\n",
       "      <th>quantile_0.0100</th>\n",
       "      <th>quantile_0.0500</th>\n",
       "      <th>quantile_0.2500</th>\n",
       "      <th>quantile_0.5000</th>\n",
       "      <th>quantile_0.7500</th>\n",
       "      <th>quantile_0.9500</th>\n",
       "      <th>quantile_0.9900</th>\n",
       "      <th>quantile_1.0000</th>\n",
       "    </tr>\n",
       "  </thead>\n",
       "  <tbody>\n",
       "    <tr>\n",
       "      <th>0</th>\n",
       "      <td>bc_util</td>\n",
       "      <td>309.0</td>\n",
       "      <td>0.0</td>\n",
       "      <td>0.0</td>\n",
       "      <td>305.0</td>\n",
       "      <td>110.1</td>\n",
       "      <td>55.580000</td>\n",
       "      <td>0.0</td>\n",
       "      <td>27.979932</td>\n",
       "      <td>269.0</td>\n",
       "      <td>...</td>\n",
       "      <td>0.0</td>\n",
       "      <td>0.0</td>\n",
       "      <td>1.0</td>\n",
       "      <td>10.2</td>\n",
       "      <td>33.400002</td>\n",
       "      <td>56.599998</td>\n",
       "      <td>77.800003</td>\n",
       "      <td>97.800003</td>\n",
       "      <td>99.400002</td>\n",
       "      <td>110.099998</td>\n",
       "    </tr>\n",
       "    <tr>\n",
       "      <th>1</th>\n",
       "      <td>open_act_il</td>\n",
       "      <td>309.0</td>\n",
       "      <td>0.0</td>\n",
       "      <td>0.0</td>\n",
       "      <td>309.0</td>\n",
       "      <td>18.0</td>\n",
       "      <td>2.734628</td>\n",
       "      <td>0.0</td>\n",
       "      <td>2.689711</td>\n",
       "      <td>15.0</td>\n",
       "      <td>...</td>\n",
       "      <td>0.0</td>\n",
       "      <td>0.0</td>\n",
       "      <td>0.0</td>\n",
       "      <td>0.0</td>\n",
       "      <td>1.000000</td>\n",
       "      <td>2.000000</td>\n",
       "      <td>3.000000</td>\n",
       "      <td>8.000000</td>\n",
       "      <td>13.000000</td>\n",
       "      <td>18.000000</td>\n",
       "    </tr>\n",
       "    <tr>\n",
       "      <th>2</th>\n",
       "      <td>sec_app_chargeoff_within_12_mths</td>\n",
       "      <td>309.0</td>\n",
       "      <td>0.0</td>\n",
       "      <td>0.0</td>\n",
       "      <td>0.0</td>\n",
       "      <td>0.0</td>\n",
       "      <td>0.000000</td>\n",
       "      <td>0.0</td>\n",
       "      <td>0.000000</td>\n",
       "      <td>0.0</td>\n",
       "      <td>...</td>\n",
       "      <td>0.0</td>\n",
       "      <td>NaN</td>\n",
       "      <td>NaN</td>\n",
       "      <td>NaN</td>\n",
       "      <td>NaN</td>\n",
       "      <td>NaN</td>\n",
       "      <td>NaN</td>\n",
       "      <td>NaN</td>\n",
       "      <td>NaN</td>\n",
       "      <td>NaN</td>\n",
       "    </tr>\n",
       "    <tr>\n",
       "      <th>3</th>\n",
       "      <td>delinq_amnt</td>\n",
       "      <td>309.0</td>\n",
       "      <td>0.0</td>\n",
       "      <td>0.0</td>\n",
       "      <td>309.0</td>\n",
       "      <td>65000.0</td>\n",
       "      <td>247.579288</td>\n",
       "      <td>0.0</td>\n",
       "      <td>3740.549191</td>\n",
       "      <td>4.0</td>\n",
       "      <td>...</td>\n",
       "      <td>0.0</td>\n",
       "      <td>0.0</td>\n",
       "      <td>0.0</td>\n",
       "      <td>0.0</td>\n",
       "      <td>0.000000</td>\n",
       "      <td>0.000000</td>\n",
       "      <td>0.000000</td>\n",
       "      <td>0.000000</td>\n",
       "      <td>1436.000000</td>\n",
       "      <td>65000.000000</td>\n",
       "    </tr>\n",
       "    <tr>\n",
       "      <th>4</th>\n",
       "      <td>annual_inc</td>\n",
       "      <td>309.0</td>\n",
       "      <td>0.0</td>\n",
       "      <td>0.0</td>\n",
       "      <td>309.0</td>\n",
       "      <td>400000.0</td>\n",
       "      <td>80151.667184</td>\n",
       "      <td>10000.0</td>\n",
       "      <td>51337.356187</td>\n",
       "      <td>141.0</td>\n",
       "      <td>...</td>\n",
       "      <td>0.0</td>\n",
       "      <td>10000.0</td>\n",
       "      <td>14904.0</td>\n",
       "      <td>27500.0</td>\n",
       "      <td>49680.000000</td>\n",
       "      <td>67000.000000</td>\n",
       "      <td>98000.000000</td>\n",
       "      <td>180000.000000</td>\n",
       "      <td>252000.000000</td>\n",
       "      <td>400000.000000</td>\n",
       "    </tr>\n",
       "    <tr>\n",
       "      <th>...</th>\n",
       "      <td>...</td>\n",
       "      <td>...</td>\n",
       "      <td>...</td>\n",
       "      <td>...</td>\n",
       "      <td>...</td>\n",
       "      <td>...</td>\n",
       "      <td>...</td>\n",
       "      <td>...</td>\n",
       "      <td>...</td>\n",
       "      <td>...</td>\n",
       "      <td>...</td>\n",
       "      <td>...</td>\n",
       "      <td>...</td>\n",
       "      <td>...</td>\n",
       "      <td>...</td>\n",
       "      <td>...</td>\n",
       "      <td>...</td>\n",
       "      <td>...</td>\n",
       "      <td>...</td>\n",
       "      <td>...</td>\n",
       "      <td>...</td>\n",
       "    </tr>\n",
       "    <tr>\n",
       "      <th>145</th>\n",
       "      <td>annual_inc_joint</td>\n",
       "      <td>309.0</td>\n",
       "      <td>0.0</td>\n",
       "      <td>0.0</td>\n",
       "      <td>17.0</td>\n",
       "      <td>253960.0</td>\n",
       "      <td>119850.823529</td>\n",
       "      <td>44000.0</td>\n",
       "      <td>60055.970607</td>\n",
       "      <td>17.0</td>\n",
       "      <td>...</td>\n",
       "      <td>0.0</td>\n",
       "      <td>44000.0</td>\n",
       "      <td>44000.0</td>\n",
       "      <td>44000.0</td>\n",
       "      <td>73488.000000</td>\n",
       "      <td>100500.000000</td>\n",
       "      <td>156000.000000</td>\n",
       "      <td>253960.000000</td>\n",
       "      <td>253960.000000</td>\n",
       "      <td>253960.000000</td>\n",
       "    </tr>\n",
       "    <tr>\n",
       "      <th>146</th>\n",
       "      <td>debt_settlement_flag</td>\n",
       "      <td>309.0</td>\n",
       "      <td>0.0</td>\n",
       "      <td>0.0</td>\n",
       "      <td>0.0</td>\n",
       "      <td>0.0</td>\n",
       "      <td>0.000000</td>\n",
       "      <td>0.0</td>\n",
       "      <td>0.000000</td>\n",
       "      <td>0.0</td>\n",
       "      <td>...</td>\n",
       "      <td>1.0</td>\n",
       "      <td>NaN</td>\n",
       "      <td>NaN</td>\n",
       "      <td>NaN</td>\n",
       "      <td>NaN</td>\n",
       "      <td>NaN</td>\n",
       "      <td>NaN</td>\n",
       "      <td>NaN</td>\n",
       "      <td>NaN</td>\n",
       "      <td>NaN</td>\n",
       "    </tr>\n",
       "    <tr>\n",
       "      <th>147</th>\n",
       "      <td>open_acc_6m</td>\n",
       "      <td>309.0</td>\n",
       "      <td>0.0</td>\n",
       "      <td>0.0</td>\n",
       "      <td>309.0</td>\n",
       "      <td>7.0</td>\n",
       "      <td>0.828479</td>\n",
       "      <td>0.0</td>\n",
       "      <td>1.098862</td>\n",
       "      <td>7.0</td>\n",
       "      <td>...</td>\n",
       "      <td>0.0</td>\n",
       "      <td>0.0</td>\n",
       "      <td>0.0</td>\n",
       "      <td>0.0</td>\n",
       "      <td>0.000000</td>\n",
       "      <td>0.000000</td>\n",
       "      <td>1.000000</td>\n",
       "      <td>3.000000</td>\n",
       "      <td>5.000000</td>\n",
       "      <td>7.000000</td>\n",
       "    </tr>\n",
       "    <tr>\n",
       "      <th>148</th>\n",
       "      <td>hardship_amount</td>\n",
       "      <td>309.0</td>\n",
       "      <td>0.0</td>\n",
       "      <td>0.0</td>\n",
       "      <td>0.0</td>\n",
       "      <td>0.0</td>\n",
       "      <td>0.000000</td>\n",
       "      <td>0.0</td>\n",
       "      <td>0.000000</td>\n",
       "      <td>0.0</td>\n",
       "      <td>...</td>\n",
       "      <td>0.0</td>\n",
       "      <td>NaN</td>\n",
       "      <td>NaN</td>\n",
       "      <td>NaN</td>\n",
       "      <td>NaN</td>\n",
       "      <td>NaN</td>\n",
       "      <td>NaN</td>\n",
       "      <td>NaN</td>\n",
       "      <td>NaN</td>\n",
       "      <td>NaN</td>\n",
       "    </tr>\n",
       "    <tr>\n",
       "      <th>149</th>\n",
       "      <td>num_sats</td>\n",
       "      <td>309.0</td>\n",
       "      <td>0.0</td>\n",
       "      <td>0.0</td>\n",
       "      <td>309.0</td>\n",
       "      <td>32.0</td>\n",
       "      <td>11.216828</td>\n",
       "      <td>2.0</td>\n",
       "      <td>4.972807</td>\n",
       "      <td>26.0</td>\n",
       "      <td>...</td>\n",
       "      <td>0.0</td>\n",
       "      <td>2.0</td>\n",
       "      <td>3.0</td>\n",
       "      <td>5.0</td>\n",
       "      <td>8.000000</td>\n",
       "      <td>10.000000</td>\n",
       "      <td>14.000000</td>\n",
       "      <td>20.000000</td>\n",
       "      <td>25.000000</td>\n",
       "      <td>32.000000</td>\n",
       "    </tr>\n",
       "  </tbody>\n",
       "</table>\n",
       "<p>150 rows × 32 columns</p>\n",
       "</div>"
      ],
      "text/plain": [
       "                               column  count  null_count  bool_count  \\\n",
       "0                             bc_util  309.0         0.0         0.0   \n",
       "1                         open_act_il  309.0         0.0         0.0   \n",
       "2    sec_app_chargeoff_within_12_mths  309.0         0.0         0.0   \n",
       "3                         delinq_amnt  309.0         0.0         0.0   \n",
       "4                          annual_inc  309.0         0.0         0.0   \n",
       "..                                ...    ...         ...         ...   \n",
       "145                  annual_inc_joint  309.0         0.0         0.0   \n",
       "146              debt_settlement_flag  309.0         0.0         0.0   \n",
       "147                       open_acc_6m  309.0         0.0         0.0   \n",
       "148                   hardship_amount  309.0         0.0         0.0   \n",
       "149                          num_sats  309.0         0.0         0.0   \n",
       "\n",
       "     numeric_count       max           mean      min        stddev  \\\n",
       "0            305.0     110.1      55.580000      0.0     27.979932   \n",
       "1            309.0      18.0       2.734628      0.0      2.689711   \n",
       "2              0.0       0.0       0.000000      0.0      0.000000   \n",
       "3            309.0   65000.0     247.579288      0.0   3740.549191   \n",
       "4            309.0  400000.0   80151.667184  10000.0  51337.356187   \n",
       "..             ...       ...            ...      ...           ...   \n",
       "145           17.0  253960.0  119850.823529  44000.0  60055.970607   \n",
       "146            0.0       0.0       0.000000      0.0      0.000000   \n",
       "147          309.0       7.0       0.828479      0.0      1.098862   \n",
       "148            0.0       0.0       0.000000      0.0      0.000000   \n",
       "149          309.0      32.0      11.216828      2.0      4.972807   \n",
       "\n",
       "     nunique_numbers  ...  nunique_str_upper  quantile_0.0000  \\\n",
       "0              269.0  ...                0.0              0.0   \n",
       "1               15.0  ...                0.0              0.0   \n",
       "2                0.0  ...                0.0              NaN   \n",
       "3                4.0  ...                0.0              0.0   \n",
       "4              141.0  ...                0.0          10000.0   \n",
       "..               ...  ...                ...              ...   \n",
       "145             17.0  ...                0.0          44000.0   \n",
       "146              0.0  ...                1.0              NaN   \n",
       "147              7.0  ...                0.0              0.0   \n",
       "148              0.0  ...                0.0              NaN   \n",
       "149             26.0  ...                0.0              2.0   \n",
       "\n",
       "     quantile_0.0100  quantile_0.0500  quantile_0.2500  quantile_0.5000  \\\n",
       "0                1.0             10.2        33.400002        56.599998   \n",
       "1                0.0              0.0         1.000000         2.000000   \n",
       "2                NaN              NaN              NaN              NaN   \n",
       "3                0.0              0.0         0.000000         0.000000   \n",
       "4            14904.0          27500.0     49680.000000     67000.000000   \n",
       "..               ...              ...              ...              ...   \n",
       "145          44000.0          44000.0     73488.000000    100500.000000   \n",
       "146              NaN              NaN              NaN              NaN   \n",
       "147              0.0              0.0         0.000000         0.000000   \n",
       "148              NaN              NaN              NaN              NaN   \n",
       "149              3.0              5.0         8.000000        10.000000   \n",
       "\n",
       "     quantile_0.7500  quantile_0.9500  quantile_0.9900  quantile_1.0000  \n",
       "0          77.800003        97.800003        99.400002       110.099998  \n",
       "1           3.000000         8.000000        13.000000        18.000000  \n",
       "2                NaN              NaN              NaN              NaN  \n",
       "3           0.000000         0.000000      1436.000000     65000.000000  \n",
       "4       98000.000000    180000.000000    252000.000000    400000.000000  \n",
       "..               ...              ...              ...              ...  \n",
       "145    156000.000000    253960.000000    253960.000000    253960.000000  \n",
       "146              NaN              NaN              NaN              NaN  \n",
       "147         1.000000         3.000000         5.000000         7.000000  \n",
       "148              NaN              NaN              NaN              NaN  \n",
       "149        14.000000        20.000000        25.000000        32.000000  \n",
       "\n",
       "[150 rows x 32 columns]"
      ]
     },
     "execution_count": 17,
     "metadata": {},
     "output_type": "execute_result"
    }
   ],
   "source": [
    "summary = summaries['summary']\n",
    "summary"
   ]
  },
  {
   "cell_type": "markdown",
   "metadata": {},
   "source": [
    "### Using the streaming mode\n",
    "\n",
    "It's convenient to call whylogs on a batch of data with a Pandas dataframe. However, in practice you might have only individual data points. In that case, `whylogs` can be called on each individual datum (Python dictionary object in this case).\n",
    "\n",
    "The following example shows how we can stream through individual data points by iterating with a dataframe and extracting rows as an object:"
   ]
  },
  {
   "cell_type": "code",
   "execution_count": 25,
   "metadata": {},
   "outputs": [],
   "source": [
    "profile2 = session.new_profile(dataset_name=\"in-memory\", \n",
    "                              dataset_timestamp=datetime.datetime(2020, 9, 23, 0, 0))\n",
    "for i, row in data.iterrows():\n",
    "    profile2.track(row.to_dict())"
   ]
  },
  {
   "cell_type": "markdown",
   "metadata": {},
   "source": [
    "The counter should now be updated incrementally, and the two profiles can be merged:"
   ]
  },
  {
   "cell_type": "code",
   "execution_count": 26,
   "metadata": {},
   "outputs": [],
   "source": [
    "merged_profile = profile.merge(profile2)"
   ]
  },
  {
   "cell_type": "markdown",
   "metadata": {},
   "source": [
    "Streaming mode isn't limited to just the API. We can also merge the profiles across different sessions to get a holistic view:"
   ]
  },
  {
   "cell_type": "code",
   "execution_count": 27,
   "metadata": {},
   "outputs": [
    {
     "name": "stdout",
     "output_type": "stream",
     "text": [
      "309\n",
      "309\n",
      "618\n"
     ]
    }
   ],
   "source": [
    "print(profile.columns['dti'].counters.count)\n",
    "print(profile2.columns['dti'].counters.count)\n",
    "print(merged_profile.columns['dti'].counters.count)"
   ]
  },
  {
   "cell_type": "markdown",
   "metadata": {},
   "source": [
    "## whylogs output\n",
    "\n",
    "We can see that this summary object is much smaller at **roughly 150 rows x 32 columns** than the original dataset at **1000 rows x 151 columns**. Smaller storage sizes are important in reducing costs and making it easier for your data scientists to complete monitoring and post-analysis on large amounts of data.\n",
    "\n",
    "Each row of our flat profile summary contains the name of the variable found in the original dataset, in the column called `column`.\n",
    "\n",
    "We can also see a number of useful metrics as columns in our summary: descriptive statistics, type information, unique estimates and bounds, as well as specially formulated metrics like inferred_dtype and dtype_fraction.\n",
    "\n",
    "Let's explore the output of the whylogs profiler to check on a few of the interesting variables we mentioned earlier. For example, let's look at the  `funded_amnt` variable."
   ]
  },
  {
   "cell_type": "code",
   "execution_count": 28,
   "metadata": {},
   "outputs": [
    {
     "data": {
      "text/html": [
       "<div>\n",
       "<style scoped>\n",
       "    .dataframe tbody tr th:only-of-type {\n",
       "        vertical-align: middle;\n",
       "    }\n",
       "\n",
       "    .dataframe tbody tr th {\n",
       "        vertical-align: top;\n",
       "    }\n",
       "\n",
       "    .dataframe thead th {\n",
       "        text-align: right;\n",
       "    }\n",
       "</style>\n",
       "<table border=\"1\" class=\"dataframe\">\n",
       "  <thead>\n",
       "    <tr style=\"text-align: right;\">\n",
       "      <th></th>\n",
       "      <th>43</th>\n",
       "    </tr>\n",
       "  </thead>\n",
       "  <tbody>\n",
       "    <tr>\n",
       "      <th>column</th>\n",
       "      <td>funded_amnt</td>\n",
       "    </tr>\n",
       "    <tr>\n",
       "      <th>count</th>\n",
       "      <td>309.0</td>\n",
       "    </tr>\n",
       "    <tr>\n",
       "      <th>null_count</th>\n",
       "      <td>0.0</td>\n",
       "    </tr>\n",
       "    <tr>\n",
       "      <th>bool_count</th>\n",
       "      <td>0.0</td>\n",
       "    </tr>\n",
       "    <tr>\n",
       "      <th>numeric_count</th>\n",
       "      <td>309.0</td>\n",
       "    </tr>\n",
       "    <tr>\n",
       "      <th>max</th>\n",
       "      <td>40000.0</td>\n",
       "    </tr>\n",
       "    <tr>\n",
       "      <th>mean</th>\n",
       "      <td>14511.407767</td>\n",
       "    </tr>\n",
       "    <tr>\n",
       "      <th>min</th>\n",
       "      <td>1000.0</td>\n",
       "    </tr>\n",
       "    <tr>\n",
       "      <th>stddev</th>\n",
       "      <td>9011.80195</td>\n",
       "    </tr>\n",
       "    <tr>\n",
       "      <th>nunique_numbers</th>\n",
       "      <td>117.0</td>\n",
       "    </tr>\n",
       "    <tr>\n",
       "      <th>nunique_numbers_lower</th>\n",
       "      <td>117.0</td>\n",
       "    </tr>\n",
       "    <tr>\n",
       "      <th>nunique_numbers_upper</th>\n",
       "      <td>117.0</td>\n",
       "    </tr>\n",
       "    <tr>\n",
       "      <th>inferred_dtype</th>\n",
       "      <td>2.0</td>\n",
       "    </tr>\n",
       "    <tr>\n",
       "      <th>dtype_fraction</th>\n",
       "      <td>1.0</td>\n",
       "    </tr>\n",
       "    <tr>\n",
       "      <th>type_unknown_count</th>\n",
       "      <td>0.0</td>\n",
       "    </tr>\n",
       "    <tr>\n",
       "      <th>type_null_count</th>\n",
       "      <td>0.0</td>\n",
       "    </tr>\n",
       "    <tr>\n",
       "      <th>type_fractional_count</th>\n",
       "      <td>309.0</td>\n",
       "    </tr>\n",
       "    <tr>\n",
       "      <th>type_integral_count</th>\n",
       "      <td>0.0</td>\n",
       "    </tr>\n",
       "    <tr>\n",
       "      <th>type_boolean_count</th>\n",
       "      <td>0.0</td>\n",
       "    </tr>\n",
       "    <tr>\n",
       "      <th>type_string_count</th>\n",
       "      <td>0.0</td>\n",
       "    </tr>\n",
       "    <tr>\n",
       "      <th>nunique_str</th>\n",
       "      <td>0.0</td>\n",
       "    </tr>\n",
       "    <tr>\n",
       "      <th>nunique_str_lower</th>\n",
       "      <td>0.0</td>\n",
       "    </tr>\n",
       "    <tr>\n",
       "      <th>nunique_str_upper</th>\n",
       "      <td>0.0</td>\n",
       "    </tr>\n",
       "    <tr>\n",
       "      <th>quantile_0.0000</th>\n",
       "      <td>1000.0</td>\n",
       "    </tr>\n",
       "    <tr>\n",
       "      <th>quantile_0.0100</th>\n",
       "      <td>1400.0</td>\n",
       "    </tr>\n",
       "    <tr>\n",
       "      <th>quantile_0.0500</th>\n",
       "      <td>3500.0</td>\n",
       "    </tr>\n",
       "    <tr>\n",
       "      <th>quantile_0.2500</th>\n",
       "      <td>7500.0</td>\n",
       "    </tr>\n",
       "    <tr>\n",
       "      <th>quantile_0.5000</th>\n",
       "      <td>12000.0</td>\n",
       "    </tr>\n",
       "    <tr>\n",
       "      <th>quantile_0.7500</th>\n",
       "      <td>20000.0</td>\n",
       "    </tr>\n",
       "    <tr>\n",
       "      <th>quantile_0.9500</th>\n",
       "      <td>35000.0</td>\n",
       "    </tr>\n",
       "    <tr>\n",
       "      <th>quantile_0.9900</th>\n",
       "      <td>36000.0</td>\n",
       "    </tr>\n",
       "    <tr>\n",
       "      <th>quantile_1.0000</th>\n",
       "      <td>40000.0</td>\n",
       "    </tr>\n",
       "  </tbody>\n",
       "</table>\n",
       "</div>"
      ],
      "text/plain": [
       "                                 43\n",
       "column                  funded_amnt\n",
       "count                         309.0\n",
       "null_count                      0.0\n",
       "bool_count                      0.0\n",
       "numeric_count                 309.0\n",
       "max                         40000.0\n",
       "mean                   14511.407767\n",
       "min                          1000.0\n",
       "stddev                   9011.80195\n",
       "nunique_numbers               117.0\n",
       "nunique_numbers_lower         117.0\n",
       "nunique_numbers_upper         117.0\n",
       "inferred_dtype                  2.0\n",
       "dtype_fraction                  1.0\n",
       "type_unknown_count              0.0\n",
       "type_null_count                 0.0\n",
       "type_fractional_count         309.0\n",
       "type_integral_count             0.0\n",
       "type_boolean_count              0.0\n",
       "type_string_count               0.0\n",
       "nunique_str                     0.0\n",
       "nunique_str_lower               0.0\n",
       "nunique_str_upper               0.0\n",
       "quantile_0.0000              1000.0\n",
       "quantile_0.0100              1400.0\n",
       "quantile_0.0500              3500.0\n",
       "quantile_0.2500              7500.0\n",
       "quantile_0.5000             12000.0\n",
       "quantile_0.7500             20000.0\n",
       "quantile_0.9500             35000.0\n",
       "quantile_0.9900             36000.0\n",
       "quantile_1.0000             40000.0"
      ]
     },
     "execution_count": 28,
     "metadata": {},
     "output_type": "execute_result"
    }
   ],
   "source": [
    "summary[summary['column']=='funded_amnt'].T"
   ]
  },
  {
   "cell_type": "markdown",
   "metadata": {},
   "source": [
    "You may notice that the count for this variable was recorded as **309** hits, with a minimum loan amount of **$1,000.00 USD** and a maximum loan amount of **\\$40,000.00 USD**.\n",
    "\n",
    "For numerical variables like `funded_amnt`, we can view additional information in the histograms dictionary from the profile summaries object. The variable's histogram object contains bin edges along with counts."
   ]
  },
  {
   "cell_type": "code",
   "execution_count": 29,
   "metadata": {},
   "outputs": [
    {
     "name": "stdout",
     "output_type": "stream",
     "text": [
      "{'bin_edges': [1000.0, 2300.0001333333335, 3600.000266666667, 4900.000400000001, 6200.000533333334, 7500.000666666667, 8800.000800000002, 10100.000933333335, 11400.001066666668, 12700.0012, 14000.001333333334, 15300.001466666668, 16600.001600000003, 17900.001733333334, 19200.00186666667, 20500.002, 21800.002133333335, 23100.00226666667, 24400.0024, 25700.002533333336, 27000.002666666667, 28300.002800000002, 29600.002933333337, 30900.003066666668, 32200.003200000003, 33500.00333333334, 34800.00346666667, 36100.003600000004, 37400.00373333334, 38700.00386666667, 40000.004], 'counts': [7, 10, 13, 34, 14, 17, 32, 8, 24, 11, 22, 12, 9, 11, 22, 7, 5, 3, 10, 2, 5, 1, 5, 5, 0, 2, 15, 0, 0, 3]}\n"
     ]
    }
   ],
   "source": [
    "histograms = summaries['hist']\n",
    "print(histograms['funded_amnt'])"
   ]
  },
  {
   "cell_type": "markdown",
   "metadata": {},
   "source": [
    "For another variable, `loan_status`, we can discover intriguing information within other metrics. This is because loan status is a categorical field that takes strings as inputs.\n",
    "\n",
    "Let's look at a few relevant metrics for this and other string variables."
   ]
  },
  {
   "cell_type": "code",
   "execution_count": 30,
   "metadata": {},
   "outputs": [
    {
     "data": {
      "text/html": [
       "<div>\n",
       "<style scoped>\n",
       "    .dataframe tbody tr th:only-of-type {\n",
       "        vertical-align: middle;\n",
       "    }\n",
       "\n",
       "    .dataframe tbody tr th {\n",
       "        vertical-align: top;\n",
       "    }\n",
       "\n",
       "    .dataframe thead th {\n",
       "        text-align: right;\n",
       "    }\n",
       "</style>\n",
       "<table border=\"1\" class=\"dataframe\">\n",
       "  <thead>\n",
       "    <tr style=\"text-align: right;\">\n",
       "      <th></th>\n",
       "      <th>type_string_count</th>\n",
       "      <th>type_null_count</th>\n",
       "      <th>nunique_str</th>\n",
       "      <th>nunique_str_lower</th>\n",
       "      <th>nunique_str_upper</th>\n",
       "    </tr>\n",
       "  </thead>\n",
       "  <tbody>\n",
       "    <tr>\n",
       "      <th>61</th>\n",
       "      <td>309.0</td>\n",
       "      <td>0.0</td>\n",
       "      <td>6.0</td>\n",
       "      <td>6.0</td>\n",
       "      <td>6.0</td>\n",
       "    </tr>\n",
       "  </tbody>\n",
       "</table>\n",
       "</div>"
      ],
      "text/plain": [
       "    type_string_count  type_null_count  nunique_str  nunique_str_lower  \\\n",
       "61              309.0              0.0          6.0                6.0   \n",
       "\n",
       "    nunique_str_upper  \n",
       "61                6.0  "
      ]
     },
     "execution_count": 30,
     "metadata": {},
     "output_type": "execute_result"
    }
   ],
   "source": [
    "summary[summary['column']=='loan_status'][['type_string_count', \n",
    "                                           'type_null_count', \n",
    "                                           'nunique_str', \n",
    "                                           'nunique_str_lower', \n",
    "                                           'nunique_str_upper']]"
   ]
  },
  {
   "cell_type": "markdown",
   "metadata": {},
   "source": [
    "Notice that there are **309** elements of string type. Also, the unique string fields show **6** unique strings. The lower and upper bounds for the estimate are also **6**, meaning that this is an exact number. You will see many instances of this -- DataSketches in whylogs finds exact estimates for numbers as high as 400 unique values.\n",
    "\n",
    "Let's now explore the frequent strings object from our profile summaries."
   ]
  },
  {
   "cell_type": "code",
   "execution_count": 31,
   "metadata": {},
   "outputs": [
    {
     "name": "stdout",
     "output_type": "stream",
     "text": [
      "{'Current': 239, 'Fully Paid': 54, 'Charged Off': 7, 'Late (31-120 days)': 5, 'In Grace Period': 3, 'Late (16-30 days)': 1}\n"
     ]
    }
   ],
   "source": [
    "frequent_strings = summaries['frequent_strings']\n",
    "print(frequent_strings['loan_status'])"
   ]
  },
  {
   "cell_type": "markdown",
   "metadata": {},
   "source": [
    "# Writing data to disk\n",
    "\n",
    "Sometimes you want to write your data out manually rather than relying on the Logger framework (it's more opinionated!), you can perform your own serialization and deserialization.\n",
    "\n",
    "whylogs uses protobuf for efficient storage. Here's how it works:"
   ]
  },
  {
   "cell_type": "code",
   "execution_count": 32,
   "metadata": {},
   "outputs": [],
   "source": [
    "profile.write_protobuf(\"profile.bin\")\n",
    "roundtrip = profile.read_protobuf(\"profile.bin\")"
   ]
  },
  {
   "cell_type": "code",
   "execution_count": 33,
   "metadata": {},
   "outputs": [
    {
     "data": {
      "text/plain": [
       "150"
      ]
     },
     "execution_count": 33,
     "metadata": {},
     "output_type": "execute_result"
    }
   ],
   "source": [
    "len(roundtrip.columns)"
   ]
  },
  {
   "cell_type": "markdown",
   "metadata": {},
   "source": [
    "## Visualizing multiple datasets across time with whylogs"
   ]
  },
  {
   "cell_type": "markdown",
   "metadata": {},
   "source": [
    "To use the whylogs visualization tools, we'll need to import the `ProfileVisualizer` object and use the Altair visualization framework."
   ]
  },
  {
   "cell_type": "code",
   "execution_count": 34,
   "metadata": {},
   "outputs": [],
   "source": [
    "from whylogs.viz import ProfileVisualizer\n",
    "\n",
    "viz = ProfileVisualizer()"
   ]
  },
  {
   "cell_type": "markdown",
   "metadata": {},
   "source": [
    "Now that we've explored data for a single month, let's calculate profile summaries for a series of months. Normally, we'd expect whylogs to be operating on future data, so these new datasets would originate from data seen at inference time.\n",
    "\n",
    "But in special cases like this demo or diagnosing data collected prior to whylogs integration, it may be helpful to backfill with past data. Here we'll loop through subsets of data to create a list of profile summaries."
   ]
  },
  {
   "cell_type": "code",
   "execution_count": 35,
   "metadata": {},
   "outputs": [
    {
     "data": {
      "text/plain": [
       "[<whylogs.core.datasetprofile.DatasetProfile at 0x7ffae0b5f670>,\n",
       " <whylogs.core.datasetprofile.DatasetProfile at 0x7ffaf26214c0>,\n",
       " <whylogs.core.datasetprofile.DatasetProfile at 0x7ffb01386fa0>,\n",
       " <whylogs.core.datasetprofile.DatasetProfile at 0x7ffb01241d60>,\n",
       " <whylogs.core.datasetprofile.DatasetProfile at 0x7ffb010b1fa0>,\n",
       " <whylogs.core.datasetprofile.DatasetProfile at 0x7ffb0147fbe0>]"
      ]
     },
     "execution_count": 35,
     "metadata": {},
     "output_type": "execute_result"
    }
   ],
   "source": [
    "# Create a list of data profiles\n",
    "remaining_dates = ['Feb-2017', 'Mar-2017', 'Apr-2017', 'May-2017', 'Jun-2017']\n",
    "\n",
    "profiles = [profile]  # list with original profile\n",
    "for date in remaining_dates:\n",
    "    timestamp = datetime.datetime.strptime(date, '%b-%Y')\n",
    "    subset_data = full_data[full_data['issue_d']==date]\n",
    "    subset_prof = session.profile_dataframe(subset_data, \"demo\", dataset_timestamp=timestamp)\n",
    "    profiles.append(subset_prof)\n",
    "\n",
    "profiles"
   ]
  },
  {
   "cell_type": "markdown",
   "metadata": {},
   "source": [
    "Let's pass this list of profiles into the visualizer."
   ]
  },
  {
   "cell_type": "code",
   "execution_count": 36,
   "metadata": {},
   "outputs": [],
   "source": [
    "viz.set_profiles(profiles)"
   ]
  },
  {
   "cell_type": "markdown",
   "metadata": {},
   "source": [
    "We can now explore temporal visualizations of our profiles at a quick glance."
   ]
  },
  {
   "cell_type": "code",
   "execution_count": 37,
   "metadata": {},
   "outputs": [
    {
     "data": {
      "image/png": "[encoded data removed]",
      "text/plain": [
       "<Figure size 2000x400 with 1 Axes>"
      ]
     },
     "execution_count": 37,
     "metadata": {},
     "output_type": "execute_result"
    }
   ],
   "source": [
    "viz.plot_distribution(\"loan_amnt\")"
   ]
  },
  {
   "cell_type": "code",
   "execution_count": 38,
   "metadata": {},
   "outputs": [
    {
     "data": {
      "image/png": "[encoded data removed]",
      "text/plain": [
       "<Figure size 2000x400 with 1 Axes>"
      ]
     },
     "execution_count": 38,
     "metadata": {},
     "output_type": "execute_result"
    }
   ],
   "source": [
    "viz.plot_data_types(\"emp_length\")"
   ]
  },
  {
   "cell_type": "markdown",
   "metadata": {},
   "source": [
    "# Wrapping up\n",
    "\n",
    "Once you're done with your session, you can close it. Closing a session will close all downstream loggers and force them to write to disk.\n",
    "\n",
    "Note that dataset profiles are kept in memory, so they won't be discarded with the session. You can use them as long as you like!"
   ]
  },
  {
   "cell_type": "code",
   "execution_count": 39,
   "metadata": {
    "pycharm": {
     "name": "#%%\n"
    }
   },
   "outputs": [
    {
     "data": {
      "text/plain": [
       "False"
      ]
     },
     "execution_count": 39,
     "metadata": {},
     "output_type": "execute_result"
    }
   ],
   "source": [
    "session.close()"
   ]
  },
  {
   "cell_type": "code",
   "execution_count": null,
   "metadata": {},
   "outputs": [],
   "source": [
    "print"
   ]
  }
 ],
 "metadata": {
  "kernelspec": {
   "display_name": "demo",
   "language": "python",
   "name": "demo"
  },
  "language_info": {
   "codemirror_mode": {
    "name": "ipython",
    "version": 3
   },
   "file_extension": ".py",
   "mimetype": "text/x-python",
   "name": "python",
   "nbconvert_exporter": "python",
   "pygments_lexer": "ipython3",
   "version": "3.8.8"
  }
 },
 "nbformat": 4,
 "nbformat_minor": 4
}
