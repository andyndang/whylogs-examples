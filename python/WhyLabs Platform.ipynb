{
 "cells": [
  {
   "cell_type": "markdown",
   "id": "013a0fd4-31f9-4f3f-bf3a-1efc9640422f",
   "metadata": {},
   "source": [
    "# Install basic requirements"
   ]
  },
  {
   "cell_type": "code",
   "execution_count": 1,
   "id": "ad907ce3-0c3b-49e4-86f1-eae9de934f7b",
   "metadata": {
    "collapsed": true,
    "jupyter": {
     "outputs_hidden": true
    },
    "tags": []
   },
   "outputs": [
    {
     "name": "stdout",
     "output_type": "stream",
     "text": [
      "Requirement already satisfied: whylogs in /Users/andy/miniconda3/envs/whylogs/lib/python3.8/site-packages (0.6.5)\n",
      "Requirement already satisfied: pandas in /Users/andy/miniconda3/envs/whylogs/lib/python3.8/site-packages (1.3.3)\n",
      "Requirement already satisfied: pytz>=2017.3 in /Users/andy/miniconda3/envs/whylogs/lib/python3.8/site-packages (from pandas) (2021.1)\n",
      "Requirement already satisfied: python-dateutil>=2.7.3 in /Users/andy/miniconda3/envs/whylogs/lib/python3.8/site-packages (from pandas) (2.8.2)\n",
      "Requirement already satisfied: numpy>=1.17.3 in /Users/andy/miniconda3/envs/whylogs/lib/python3.8/site-packages (from pandas) (1.21.2)\n",
      "Requirement already satisfied: six>=1.5 in /Users/andy/miniconda3/envs/whylogs/lib/python3.8/site-packages (from python-dateutil>=2.7.3->pandas) (1.16.0)\n",
      "Requirement already satisfied: tqdm<5.0.0,>=4.60.0 in /Users/andy/miniconda3/envs/whylogs/lib/python3.8/site-packages (from whylogs) (4.62.3)\n",
      "Requirement already satisfied: xlrd<3.0.0,>=2.0.1 in /Users/andy/miniconda3/envs/whylogs/lib/python3.8/site-packages (from whylogs) (2.0.1)\n",
      "Requirement already satisfied: whylabs-client in /Users/andy/miniconda3/envs/whylogs/lib/python3.8/site-packages (from whylogs) (0.1)\n",
      "Requirement already satisfied: smart-open>=4.1.2 in /Users/andy/miniconda3/envs/whylogs/lib/python3.8/site-packages (from whylogs) (5.2.1)\n",
      "Requirement already satisfied: pyyaml>=5.3.1 in /Users/andy/miniconda3/envs/whylogs/lib/python3.8/site-packages (from whylogs) (5.4.1)\n",
      "Requirement already satisfied: whylabs-datasketches>=2.2.0b1 in /Users/andy/miniconda3/envs/whylogs/lib/python3.8/site-packages (from whylogs) (2.2.0b1)\n",
      "Requirement already satisfied: boto3>=1.14.1 in /Users/andy/miniconda3/envs/whylogs/lib/python3.8/site-packages (from whylogs) (1.18.45)\n",
      "Requirement already satisfied: scikit-learn<0.25.0,>=0.24.2 in /Users/andy/miniconda3/envs/whylogs/lib/python3.8/site-packages (from whylogs) (0.24.2)\n",
      "Requirement already satisfied: botocore>=1.17.44 in /Users/andy/miniconda3/envs/whylogs/lib/python3.8/site-packages (from whylogs) (1.21.45)\n",
      "Requirement already satisfied: mlflow<1.14,>=1.13 in /Users/andy/miniconda3/envs/whylogs/lib/python3.8/site-packages (from whylogs) (1.13.1)\n",
      "Requirement already satisfied: click>=7.1.2 in /Users/andy/.local/lib/python3.8/site-packages (from whylogs) (7.1.2)\n",
      "Requirement already satisfied: puremagic in /Users/andy/miniconda3/envs/whylogs/lib/python3.8/site-packages (from whylogs) (1.10)\n",
      "Requirement already satisfied: matplotlib<4.0.0,>=3.0.3 in /Users/andy/miniconda3/envs/whylogs/lib/python3.8/site-packages (from whylogs) (3.4.3)\n",
      "Requirement already satisfied: protobuf>=3.15.5 in /Users/andy/miniconda3/envs/whylogs/lib/python3.8/site-packages (from whylogs) (3.18.0)\n",
      "Requirement already satisfied: marshmallow>=3.7.1 in /Users/andy/miniconda3/envs/whylogs/lib/python3.8/site-packages (from whylogs) (3.13.0)\n",
      "Requirement already satisfied: openpyxl<4.0.0,>=3.0.7 in /Users/andy/miniconda3/envs/whylogs/lib/python3.8/site-packages (from whylogs) (3.0.7)\n",
      "Requirement already satisfied: jmespath<1.0.0,>=0.7.1 in /Users/andy/miniconda3/envs/whylogs/lib/python3.8/site-packages (from boto3>=1.14.1->whylogs) (0.10.0)\n",
      "Requirement already satisfied: s3transfer<0.6.0,>=0.5.0 in /Users/andy/miniconda3/envs/whylogs/lib/python3.8/site-packages (from boto3>=1.14.1->whylogs) (0.5.0)\n",
      "Requirement already satisfied: urllib3<1.27,>=1.25.4 in /Users/andy/miniconda3/envs/whylogs/lib/python3.8/site-packages (from botocore>=1.17.44->whylogs) (1.26.6)\n",
      "Requirement already satisfied: pyparsing>=2.2.1 in /Users/andy/.local/lib/python3.8/site-packages (from matplotlib<4.0.0,>=3.0.3->whylogs) (2.4.7)\n",
      "Requirement already satisfied: pillow>=6.2.0 in /Users/andy/miniconda3/envs/whylogs/lib/python3.8/site-packages (from matplotlib<4.0.0,>=3.0.3->whylogs) (8.3.2)\n",
      "Requirement already satisfied: cycler>=0.10 in /Users/andy/miniconda3/envs/whylogs/lib/python3.8/site-packages (from matplotlib<4.0.0,>=3.0.3->whylogs) (0.10.0)\n",
      "Requirement already satisfied: kiwisolver>=1.0.1 in /Users/andy/miniconda3/envs/whylogs/lib/python3.8/site-packages (from matplotlib<4.0.0,>=3.0.3->whylogs) (1.3.2)\n",
      "Requirement already satisfied: gitpython>=2.1.0 in /Users/andy/miniconda3/envs/whylogs/lib/python3.8/site-packages (from mlflow<1.14,>=1.13->whylogs) (3.1.24)\n",
      "Requirement already satisfied: docker>=4.0.0 in /Users/andy/miniconda3/envs/whylogs/lib/python3.8/site-packages (from mlflow<1.14,>=1.13->whylogs) (5.0.2)\n",
      "Requirement already satisfied: querystring-parser in /Users/andy/miniconda3/envs/whylogs/lib/python3.8/site-packages (from mlflow<1.14,>=1.13->whylogs) (1.2.4)\n",
      "Requirement already satisfied: Flask in /Users/andy/miniconda3/envs/whylogs/lib/python3.8/site-packages (from mlflow<1.14,>=1.13->whylogs) (2.0.1)\n",
      "Requirement already satisfied: gunicorn in /Users/andy/miniconda3/envs/whylogs/lib/python3.8/site-packages (from mlflow<1.14,>=1.13->whylogs) (20.1.0)\n",
      "Requirement already satisfied: cloudpickle in /Users/andy/miniconda3/envs/whylogs/lib/python3.8/site-packages (from mlflow<1.14,>=1.13->whylogs) (2.0.0)\n",
      "Requirement already satisfied: sqlalchemy in /Users/andy/miniconda3/envs/whylogs/lib/python3.8/site-packages (from mlflow<1.14,>=1.13->whylogs) (1.4.23)\n",
      "Requirement already satisfied: sqlparse>=0.3.1 in /Users/andy/miniconda3/envs/whylogs/lib/python3.8/site-packages (from mlflow<1.14,>=1.13->whylogs) (0.4.2)\n",
      "Requirement already satisfied: azure-storage-blob>=12.0.0 in /Users/andy/miniconda3/envs/whylogs/lib/python3.8/site-packages (from mlflow<1.14,>=1.13->whylogs) (12.9.0)\n",
      "Requirement already satisfied: requests>=2.17.3 in /Users/andy/miniconda3/envs/whylogs/lib/python3.8/site-packages (from mlflow<1.14,>=1.13->whylogs) (2.26.0)\n",
      "Requirement already satisfied: entrypoints in /Users/andy/miniconda3/envs/whylogs/lib/python3.8/site-packages (from mlflow<1.14,>=1.13->whylogs) (0.3)\n",
      "Requirement already satisfied: prometheus-flask-exporter in /Users/andy/miniconda3/envs/whylogs/lib/python3.8/site-packages (from mlflow<1.14,>=1.13->whylogs) (0.18.2)\n",
      "Requirement already satisfied: databricks-cli>=0.8.7 in /Users/andy/miniconda3/envs/whylogs/lib/python3.8/site-packages (from mlflow<1.14,>=1.13->whylogs) (0.15.0)\n",
      "Requirement already satisfied: alembic<=1.4.1 in /Users/andy/miniconda3/envs/whylogs/lib/python3.8/site-packages (from mlflow<1.14,>=1.13->whylogs) (1.4.1)\n",
      "Requirement already satisfied: Mako in /Users/andy/miniconda3/envs/whylogs/lib/python3.8/site-packages (from alembic<=1.4.1->mlflow<1.14,>=1.13->whylogs) (1.1.5)\n",
      "Requirement already satisfied: python-editor>=0.3 in /Users/andy/miniconda3/envs/whylogs/lib/python3.8/site-packages (from alembic<=1.4.1->mlflow<1.14,>=1.13->whylogs) (1.0.4)\n",
      "Requirement already satisfied: msrest>=0.6.21 in /Users/andy/miniconda3/envs/whylogs/lib/python3.8/site-packages (from azure-storage-blob>=12.0.0->mlflow<1.14,>=1.13->whylogs) (0.6.21)\n",
      "Requirement already satisfied: azure-core<2.0.0,>=1.10.0 in /Users/andy/miniconda3/envs/whylogs/lib/python3.8/site-packages (from azure-storage-blob>=12.0.0->mlflow<1.14,>=1.13->whylogs) (1.18.0)\n",
      "Requirement already satisfied: cryptography>=2.1.4 in /Users/andy/miniconda3/envs/whylogs/lib/python3.8/site-packages (from azure-storage-blob>=12.0.0->mlflow<1.14,>=1.13->whylogs) (3.4.8)\n",
      "Requirement already satisfied: cffi>=1.12 in /Users/andy/miniconda3/envs/whylogs/lib/python3.8/site-packages (from cryptography>=2.1.4->azure-storage-blob>=12.0.0->mlflow<1.14,>=1.13->whylogs) (1.14.6)\n",
      "Requirement already satisfied: pycparser in /Users/andy/miniconda3/envs/whylogs/lib/python3.8/site-packages (from cffi>=1.12->cryptography>=2.1.4->azure-storage-blob>=12.0.0->mlflow<1.14,>=1.13->whylogs) (2.20)\n",
      "Requirement already satisfied: tabulate>=0.7.7 in /Users/andy/miniconda3/envs/whylogs/lib/python3.8/site-packages (from databricks-cli>=0.8.7->mlflow<1.14,>=1.13->whylogs) (0.8.9)\n",
      "Requirement already satisfied: websocket-client>=0.32.0 in /Users/andy/miniconda3/envs/whylogs/lib/python3.8/site-packages (from docker>=4.0.0->mlflow<1.14,>=1.13->whylogs) (1.2.1)\n",
      "Requirement already satisfied: gitdb<5,>=4.0.1 in /Users/andy/miniconda3/envs/whylogs/lib/python3.8/site-packages (from gitpython>=2.1.0->mlflow<1.14,>=1.13->whylogs) (4.0.7)\n",
      "Requirement already satisfied: typing-extensions>=3.7.4.3 in /Users/andy/miniconda3/envs/whylogs/lib/python3.8/site-packages (from gitpython>=2.1.0->mlflow<1.14,>=1.13->whylogs) (3.10.0.2)\n",
      "Requirement already satisfied: smmap<5,>=3.0.1 in /Users/andy/miniconda3/envs/whylogs/lib/python3.8/site-packages (from gitdb<5,>=4.0.1->gitpython>=2.1.0->mlflow<1.14,>=1.13->whylogs) (4.0.0)\n",
      "Requirement already satisfied: certifi>=2017.4.17 in /Users/andy/miniconda3/envs/whylogs/lib/python3.8/site-packages (from msrest>=0.6.21->azure-storage-blob>=12.0.0->mlflow<1.14,>=1.13->whylogs) (2021.5.30)\n",
      "Requirement already satisfied: requests-oauthlib>=0.5.0 in /Users/andy/miniconda3/envs/whylogs/lib/python3.8/site-packages (from msrest>=0.6.21->azure-storage-blob>=12.0.0->mlflow<1.14,>=1.13->whylogs) (1.3.0)\n",
      "Requirement already satisfied: isodate>=0.6.0 in /Users/andy/miniconda3/envs/whylogs/lib/python3.8/site-packages (from msrest>=0.6.21->azure-storage-blob>=12.0.0->mlflow<1.14,>=1.13->whylogs) (0.6.0)\n",
      "Requirement already satisfied: et-xmlfile in /Users/andy/miniconda3/envs/whylogs/lib/python3.8/site-packages (from openpyxl<4.0.0,>=3.0.7->whylogs) (1.1.0)\n",
      "Requirement already satisfied: idna<4,>=2.5 in /Users/andy/miniconda3/envs/whylogs/lib/python3.8/site-packages (from requests>=2.17.3->mlflow<1.14,>=1.13->whylogs) (3.2)\n",
      "Requirement already satisfied: charset-normalizer~=2.0.0 in /Users/andy/miniconda3/envs/whylogs/lib/python3.8/site-packages (from requests>=2.17.3->mlflow<1.14,>=1.13->whylogs) (2.0.6)\n",
      "Requirement already satisfied: oauthlib>=3.0.0 in /Users/andy/miniconda3/envs/whylogs/lib/python3.8/site-packages (from requests-oauthlib>=0.5.0->msrest>=0.6.21->azure-storage-blob>=12.0.0->mlflow<1.14,>=1.13->whylogs) (3.1.1)\n",
      "Requirement already satisfied: scipy>=0.19.1 in /Users/andy/miniconda3/envs/whylogs/lib/python3.8/site-packages (from scikit-learn<0.25.0,>=0.24.2->whylogs) (1.7.1)\n",
      "Requirement already satisfied: threadpoolctl>=2.0.0 in /Users/andy/miniconda3/envs/whylogs/lib/python3.8/site-packages (from scikit-learn<0.25.0,>=0.24.2->whylogs) (2.2.0)\n",
      "Requirement already satisfied: joblib>=0.11 in /Users/andy/miniconda3/envs/whylogs/lib/python3.8/site-packages (from scikit-learn<0.25.0,>=0.24.2->whylogs) (1.0.1)\n",
      "Requirement already satisfied: greenlet!=0.4.17 in /Users/andy/miniconda3/envs/whylogs/lib/python3.8/site-packages (from sqlalchemy->mlflow<1.14,>=1.13->whylogs) (1.1.1)\n",
      "Requirement already satisfied: Jinja2>=3.0 in /Users/andy/miniconda3/envs/whylogs/lib/python3.8/site-packages (from Flask->mlflow<1.14,>=1.13->whylogs) (3.0.1)\n",
      "Requirement already satisfied: Werkzeug>=2.0 in /Users/andy/miniconda3/envs/whylogs/lib/python3.8/site-packages (from Flask->mlflow<1.14,>=1.13->whylogs) (2.0.1)\n",
      "Requirement already satisfied: itsdangerous>=2.0 in /Users/andy/miniconda3/envs/whylogs/lib/python3.8/site-packages (from Flask->mlflow<1.14,>=1.13->whylogs) (2.0.1)\n",
      "Requirement already satisfied: MarkupSafe>=2.0 in /Users/andy/miniconda3/envs/whylogs/lib/python3.8/site-packages (from Jinja2>=3.0->Flask->mlflow<1.14,>=1.13->whylogs) (2.0.1)\n",
      "Requirement already satisfied: setuptools>=3.0 in /Users/andy/miniconda3/envs/whylogs/lib/python3.8/site-packages (from gunicorn->mlflow<1.14,>=1.13->whylogs) (58.0.4)\n",
      "Requirement already satisfied: prometheus-client in /Users/andy/miniconda3/envs/whylogs/lib/python3.8/site-packages (from prometheus-flask-exporter->mlflow<1.14,>=1.13->whylogs) (0.11.0)\n",
      "Collecting argparse\n",
      "  Using cached argparse-1.4.0-py2.py3-none-any.whl (23 kB)\n",
      "Installing collected packages: argparse\n",
      "Successfully installed argparse-1.4.0\n",
      "Note: you may need to restart the kernel to use updated packages.\n"
     ]
    }
   ],
   "source": [
    "pip install -U whylogs pandas"
   ]
  },
  {
   "cell_type": "code",
   "execution_count": 2,
   "id": "8369d3a8-9bf2-4043-a45a-13838498f211",
   "metadata": {},
   "outputs": [],
   "source": [
    "import whylogs\n",
    "import pandas as pd"
   ]
  },
  {
   "cell_type": "markdown",
   "id": "a244145c-ea35-4ab6-b03e-cf5f864ed94c",
   "metadata": {},
   "source": [
    "# Load example data batches\n",
    "\n",
    "The example data is prepared from our public S3 bucket. You can use your own data if you want if you have multiple batches of data."
   ]
  },
  {
   "cell_type": "code",
   "execution_count": 3,
   "id": "b78028ea-c7cb-494f-a303-071f1c345dfc",
   "metadata": {},
   "outputs": [
    {
     "name": "stdout",
     "output_type": "stream",
     "text": [
      "Loading data from https://whylabs-public.s3.us-west-2.amazonaws.com/demo_batches/input_batch_1.csv\n",
      "Loading data from https://whylabs-public.s3.us-west-2.amazonaws.com/demo_batches/input_batch_2.csv\n",
      "Loading data from https://whylabs-public.s3.us-west-2.amazonaws.com/demo_batches/input_batch_3.csv\n",
      "Loading data from https://whylabs-public.s3.us-west-2.amazonaws.com/demo_batches/input_batch_4.csv\n",
      "Loading data from https://whylabs-public.s3.us-west-2.amazonaws.com/demo_batches/input_batch_5.csv\n",
      "Loading data from https://whylabs-public.s3.us-west-2.amazonaws.com/demo_batches/input_batch_6.csv\n",
      "Loading data from https://whylabs-public.s3.us-west-2.amazonaws.com/demo_batches/input_batch_7.csv\n"
     ]
    }
   ],
   "source": [
    "pdfs = []\n",
    "for i in range(1, 8):\n",
    "    path = f\"https://whylabs-public.s3.us-west-2.amazonaws.com/demo_batches/input_batch_{i}.csv\"\n",
    "    print(f\"Loading data from {path}\")\n",
    "    df = pd.read_csv(path)\n",
    "    pdfs.append(df)"
   ]
  },
  {
   "cell_type": "code",
   "execution_count": 4,
   "id": "67b81ab4-a456-4d2d-9547-ad0d772e0aaa",
   "metadata": {},
   "outputs": [
    {
     "data": {
      "text/html": [
       "<div>\n",
       "<style scoped>\n",
       "    .dataframe tbody tr th:only-of-type {\n",
       "        vertical-align: middle;\n",
       "    }\n",
       "\n",
       "    .dataframe tbody tr th {\n",
       "        vertical-align: top;\n",
       "    }\n",
       "\n",
       "    .dataframe thead th {\n",
       "        text-align: right;\n",
       "    }\n",
       "</style>\n",
       "<table border=\"1\" class=\"dataframe\">\n",
       "  <thead>\n",
       "    <tr style=\"text-align: right;\">\n",
       "      <th></th>\n",
       "      <th>Unnamed: 0</th>\n",
       "      <th>id</th>\n",
       "      <th>member_id</th>\n",
       "      <th>loan_amnt</th>\n",
       "      <th>funded_amnt</th>\n",
       "      <th>funded_amnt_inv</th>\n",
       "      <th>int_rate</th>\n",
       "      <th>installment</th>\n",
       "      <th>annual_inc</th>\n",
       "      <th>desc</th>\n",
       "      <th>...</th>\n",
       "      <th>hardship_loan_status</th>\n",
       "      <th>orig_projected_additional_accrued_interest</th>\n",
       "      <th>hardship_payoff_balance_amount</th>\n",
       "      <th>hardship_last_payment_amount</th>\n",
       "      <th>debt_settlement_flag_date</th>\n",
       "      <th>settlement_status</th>\n",
       "      <th>settlement_date</th>\n",
       "      <th>settlement_amount</th>\n",
       "      <th>settlement_percentage</th>\n",
       "      <th>settlement_term</th>\n",
       "    </tr>\n",
       "  </thead>\n",
       "  <tbody>\n",
       "    <tr>\n",
       "      <th>count</th>\n",
       "      <td>407.000000</td>\n",
       "      <td>4.070000e+02</td>\n",
       "      <td>0.0</td>\n",
       "      <td>407.000000</td>\n",
       "      <td>407.000000</td>\n",
       "      <td>407.000000</td>\n",
       "      <td>407.000000</td>\n",
       "      <td>407.000000</td>\n",
       "      <td>407.000000</td>\n",
       "      <td>0.0</td>\n",
       "      <td>...</td>\n",
       "      <td>0.0</td>\n",
       "      <td>0.0</td>\n",
       "      <td>0.0</td>\n",
       "      <td>0.0</td>\n",
       "      <td>0.0</td>\n",
       "      <td>0.0</td>\n",
       "      <td>0.0</td>\n",
       "      <td>0.0</td>\n",
       "      <td>0.0</td>\n",
       "      <td>0.0</td>\n",
       "    </tr>\n",
       "    <tr>\n",
       "      <th>mean</th>\n",
       "      <td>12548.717445</td>\n",
       "      <td>1.158631e+08</td>\n",
       "      <td>NaN</td>\n",
       "      <td>14203.746929</td>\n",
       "      <td>14203.746929</td>\n",
       "      <td>14202.948403</td>\n",
       "      <td>13.514054</td>\n",
       "      <td>418.020344</td>\n",
       "      <td>78818.956069</td>\n",
       "      <td>NaN</td>\n",
       "      <td>...</td>\n",
       "      <td>NaN</td>\n",
       "      <td>NaN</td>\n",
       "      <td>NaN</td>\n",
       "      <td>NaN</td>\n",
       "      <td>NaN</td>\n",
       "      <td>NaN</td>\n",
       "      <td>NaN</td>\n",
       "      <td>NaN</td>\n",
       "      <td>NaN</td>\n",
       "      <td>NaN</td>\n",
       "    </tr>\n",
       "    <tr>\n",
       "      <th>std</th>\n",
       "      <td>125.354772</td>\n",
       "      <td>1.207642e+06</td>\n",
       "      <td>NaN</td>\n",
       "      <td>9351.142374</td>\n",
       "      <td>9351.142374</td>\n",
       "      <td>9350.997874</td>\n",
       "      <td>5.446881</td>\n",
       "      <td>271.096531</td>\n",
       "      <td>55864.939403</td>\n",
       "      <td>NaN</td>\n",
       "      <td>...</td>\n",
       "      <td>NaN</td>\n",
       "      <td>NaN</td>\n",
       "      <td>NaN</td>\n",
       "      <td>NaN</td>\n",
       "      <td>NaN</td>\n",
       "      <td>NaN</td>\n",
       "      <td>NaN</td>\n",
       "      <td>NaN</td>\n",
       "      <td>NaN</td>\n",
       "      <td>NaN</td>\n",
       "    </tr>\n",
       "    <tr>\n",
       "      <th>min</th>\n",
       "      <td>12325.000000</td>\n",
       "      <td>1.121538e+08</td>\n",
       "      <td>NaN</td>\n",
       "      <td>1000.000000</td>\n",
       "      <td>1000.000000</td>\n",
       "      <td>1000.000000</td>\n",
       "      <td>5.320000</td>\n",
       "      <td>34.220000</td>\n",
       "      <td>0.000000</td>\n",
       "      <td>NaN</td>\n",
       "      <td>...</td>\n",
       "      <td>NaN</td>\n",
       "      <td>NaN</td>\n",
       "      <td>NaN</td>\n",
       "      <td>NaN</td>\n",
       "      <td>NaN</td>\n",
       "      <td>NaN</td>\n",
       "      <td>NaN</td>\n",
       "      <td>NaN</td>\n",
       "      <td>NaN</td>\n",
       "      <td>NaN</td>\n",
       "    </tr>\n",
       "    <tr>\n",
       "      <th>25%</th>\n",
       "      <td>12442.500000</td>\n",
       "      <td>1.150769e+08</td>\n",
       "      <td>NaN</td>\n",
       "      <td>7000.000000</td>\n",
       "      <td>7000.000000</td>\n",
       "      <td>7000.000000</td>\n",
       "      <td>9.930000</td>\n",
       "      <td>235.580000</td>\n",
       "      <td>43325.000000</td>\n",
       "      <td>NaN</td>\n",
       "      <td>...</td>\n",
       "      <td>NaN</td>\n",
       "      <td>NaN</td>\n",
       "      <td>NaN</td>\n",
       "      <td>NaN</td>\n",
       "      <td>NaN</td>\n",
       "      <td>NaN</td>\n",
       "      <td>NaN</td>\n",
       "      <td>NaN</td>\n",
       "      <td>NaN</td>\n",
       "      <td>NaN</td>\n",
       "    </tr>\n",
       "    <tr>\n",
       "      <th>50%</th>\n",
       "      <td>12550.000000</td>\n",
       "      <td>1.157004e+08</td>\n",
       "      <td>NaN</td>\n",
       "      <td>12000.000000</td>\n",
       "      <td>12000.000000</td>\n",
       "      <td>12000.000000</td>\n",
       "      <td>12.620000</td>\n",
       "      <td>357.250000</td>\n",
       "      <td>63300.000000</td>\n",
       "      <td>NaN</td>\n",
       "      <td>...</td>\n",
       "      <td>NaN</td>\n",
       "      <td>NaN</td>\n",
       "      <td>NaN</td>\n",
       "      <td>NaN</td>\n",
       "      <td>NaN</td>\n",
       "      <td>NaN</td>\n",
       "      <td>NaN</td>\n",
       "      <td>NaN</td>\n",
       "      <td>NaN</td>\n",
       "      <td>NaN</td>\n",
       "    </tr>\n",
       "    <tr>\n",
       "      <th>75%</th>\n",
       "      <td>12653.500000</td>\n",
       "      <td>1.168245e+08</td>\n",
       "      <td>NaN</td>\n",
       "      <td>20000.000000</td>\n",
       "      <td>20000.000000</td>\n",
       "      <td>20000.000000</td>\n",
       "      <td>16.020000</td>\n",
       "      <td>553.515000</td>\n",
       "      <td>95000.000000</td>\n",
       "      <td>NaN</td>\n",
       "      <td>...</td>\n",
       "      <td>NaN</td>\n",
       "      <td>NaN</td>\n",
       "      <td>NaN</td>\n",
       "      <td>NaN</td>\n",
       "      <td>NaN</td>\n",
       "      <td>NaN</td>\n",
       "      <td>NaN</td>\n",
       "      <td>NaN</td>\n",
       "      <td>NaN</td>\n",
       "      <td>NaN</td>\n",
       "    </tr>\n",
       "    <tr>\n",
       "      <th>max</th>\n",
       "      <td>12862.000000</td>\n",
       "      <td>1.181592e+08</td>\n",
       "      <td>NaN</td>\n",
       "      <td>40000.000000</td>\n",
       "      <td>40000.000000</td>\n",
       "      <td>40000.000000</td>\n",
       "      <td>30.990000</td>\n",
       "      <td>1417.710000</td>\n",
       "      <td>495000.000000</td>\n",
       "      <td>NaN</td>\n",
       "      <td>...</td>\n",
       "      <td>NaN</td>\n",
       "      <td>NaN</td>\n",
       "      <td>NaN</td>\n",
       "      <td>NaN</td>\n",
       "      <td>NaN</td>\n",
       "      <td>NaN</td>\n",
       "      <td>NaN</td>\n",
       "      <td>NaN</td>\n",
       "      <td>NaN</td>\n",
       "      <td>NaN</td>\n",
       "    </tr>\n",
       "  </tbody>\n",
       "</table>\n",
       "<p>8 rows × 126 columns</p>\n",
       "</div>"
      ],
      "text/plain": [
       "         Unnamed: 0            id  member_id     loan_amnt   funded_amnt  \\\n",
       "count    407.000000  4.070000e+02        0.0    407.000000    407.000000   \n",
       "mean   12548.717445  1.158631e+08        NaN  14203.746929  14203.746929   \n",
       "std      125.354772  1.207642e+06        NaN   9351.142374   9351.142374   \n",
       "min    12325.000000  1.121538e+08        NaN   1000.000000   1000.000000   \n",
       "25%    12442.500000  1.150769e+08        NaN   7000.000000   7000.000000   \n",
       "50%    12550.000000  1.157004e+08        NaN  12000.000000  12000.000000   \n",
       "75%    12653.500000  1.168245e+08        NaN  20000.000000  20000.000000   \n",
       "max    12862.000000  1.181592e+08        NaN  40000.000000  40000.000000   \n",
       "\n",
       "       funded_amnt_inv    int_rate  installment     annual_inc  desc  ...  \\\n",
       "count       407.000000  407.000000   407.000000     407.000000   0.0  ...   \n",
       "mean      14202.948403   13.514054   418.020344   78818.956069   NaN  ...   \n",
       "std        9350.997874    5.446881   271.096531   55864.939403   NaN  ...   \n",
       "min        1000.000000    5.320000    34.220000       0.000000   NaN  ...   \n",
       "25%        7000.000000    9.930000   235.580000   43325.000000   NaN  ...   \n",
       "50%       12000.000000   12.620000   357.250000   63300.000000   NaN  ...   \n",
       "75%       20000.000000   16.020000   553.515000   95000.000000   NaN  ...   \n",
       "max       40000.000000   30.990000  1417.710000  495000.000000   NaN  ...   \n",
       "\n",
       "       hardship_loan_status  orig_projected_additional_accrued_interest  \\\n",
       "count                   0.0                                         0.0   \n",
       "mean                    NaN                                         NaN   \n",
       "std                     NaN                                         NaN   \n",
       "min                     NaN                                         NaN   \n",
       "25%                     NaN                                         NaN   \n",
       "50%                     NaN                                         NaN   \n",
       "75%                     NaN                                         NaN   \n",
       "max                     NaN                                         NaN   \n",
       "\n",
       "       hardship_payoff_balance_amount  hardship_last_payment_amount  \\\n",
       "count                             0.0                           0.0   \n",
       "mean                              NaN                           NaN   \n",
       "std                               NaN                           NaN   \n",
       "min                               NaN                           NaN   \n",
       "25%                               NaN                           NaN   \n",
       "50%                               NaN                           NaN   \n",
       "75%                               NaN                           NaN   \n",
       "max                               NaN                           NaN   \n",
       "\n",
       "       debt_settlement_flag_date  settlement_status  settlement_date  \\\n",
       "count                        0.0                0.0              0.0   \n",
       "mean                         NaN                NaN              NaN   \n",
       "std                          NaN                NaN              NaN   \n",
       "min                          NaN                NaN              NaN   \n",
       "25%                          NaN                NaN              NaN   \n",
       "50%                          NaN                NaN              NaN   \n",
       "75%                          NaN                NaN              NaN   \n",
       "max                          NaN                NaN              NaN   \n",
       "\n",
       "       settlement_amount  settlement_percentage  settlement_term  \n",
       "count                0.0                    0.0              0.0  \n",
       "mean                 NaN                    NaN              NaN  \n",
       "std                  NaN                    NaN              NaN  \n",
       "min                  NaN                    NaN              NaN  \n",
       "25%                  NaN                    NaN              NaN  \n",
       "50%                  NaN                    NaN              NaN  \n",
       "75%                  NaN                    NaN              NaN  \n",
       "max                  NaN                    NaN              NaN  \n",
       "\n",
       "[8 rows x 126 columns]"
      ]
     },
     "execution_count": 4,
     "metadata": {},
     "output_type": "execute_result"
    }
   ],
   "source": [
    "pdfs[0].describe()"
   ]
  },
  {
   "cell_type": "markdown",
   "id": "834d6471-8490-48ea-bb52-6be31662dc97",
   "metadata": {},
   "source": [
    "# Configure whylogs\n",
    "\n",
    "`whylogs`, by default, does not send statistics to WhyLabs.\n",
    "\n",
    "There are a few small steps you need to set up. If you haven't got the access key, please onboard with WhyLabs.\n",
    "\n",
    "**WhyLabs only requires whylogs API - your raw data never leaves your premise.**"
   ]
  },
  {
   "cell_type": "code",
   "execution_count": 5,
   "id": "1f8ee6e6-20cc-4967-b854-a5a8b9fc47e7",
   "metadata": {},
   "outputs": [],
   "source": [
    "from whylogs.app import Session\n",
    "from whylogs.app.writers import WhyLabsWriter\n",
    "import os\n",
    "import datetime"
   ]
  },
  {
   "cell_type": "code",
   "execution_count": 6,
   "id": "31371bc6-4ec8-4518-84a0-4718b19d1506",
   "metadata": {},
   "outputs": [
    {
     "name": "stdout",
     "output_type": "stream",
     "text": [
      "Enter your WhyLabs Org ID\n"
     ]
    },
    {
     "name": "stdin",
     "output_type": "stream",
     "text": [
      " org-5953\n"
     ]
    },
    {
     "name": "stdout",
     "output_type": "stream",
     "text": [
      "Enter your WhyLabs API key\n"
     ]
    },
    {
     "name": "stdin",
     "output_type": "stream",
     "text": [
      " ································································\n"
     ]
    },
    {
     "name": "stdout",
     "output_type": "stream",
     "text": [
      "Using API Key ID:  naGzCisIJt\n"
     ]
    }
   ],
   "source": [
    "import getpass\n",
    "\n",
    "# set your org-id here\n",
    "print(\"Enter your WhyLabs Org ID\")\n",
    "os.environ[\"WHYLABS_DEFAULT_ORG_ID\"] = input()\n",
    "# set your API key here\n",
    "print(\"Enter your WhyLabs API key\")\n",
    "os.environ[\"WHYLABS_API_KEY\"] = getpass.getpass()\n",
    "print(\"Using API Key ID: \", os.environ[\"WHYLABS_API_KEY\"][0:10])"
   ]
  },
  {
   "cell_type": "markdown",
   "id": "38db51e3-39b6-4877-9318-c11726ff34d2",
   "metadata": {},
   "source": [
    "## Creating session\n",
    "\n",
    "Once the environments are set, let's create a whylogs session with a WhyLabs writer.\n",
    "\n",
    "Note that you can add your local writer or S3 writer if you want here. Check out the API docs for more information."
   ]
  },
  {
   "cell_type": "code",
   "execution_count": 7,
   "id": "a4e01c22-e2f1-46be-97dc-2b080e680088",
   "metadata": {},
   "outputs": [],
   "source": [
    "# create WhyLabs session\n",
    "writer = WhyLabsWriter(\"\", formats=[])\n",
    "session = Session(project=\"demo-project\", pipeline=\"demo-pipeline\", writers=[writer])"
   ]
  },
  {
   "cell_type": "markdown",
   "id": "8d7bbb9c-9b18-4e12-bab2-88a5176eeba7",
   "metadata": {},
   "source": [
    "## Logging to WhyLabs\n",
    "\n",
    "Ensure you have a **model ID** (also called **dataset ID**) before you start!\n",
    "\n",
    "### Dataset Timestamp\n",
    "* To avoid confusion, it's recommended that you use UTC\n",
    "* If you don't set `dataset_timestamp` parameter, it'll default to `UTC` now\n",
    "* WhyLabs supports real time visualization when the timestamp is **within the last 7 days**. Anything older than than will be picked up when we run our batch processing\n",
    "* **If you log two profiles for the same day with different timestamps (12:00 vs 12:01), they are merged to the same batch**\n",
    "\n",
    "### Logging Different Batches of Data\n",
    "* We'll give the profiles different **dates**\n",
    "* Create a new logger for each date. Note that the logger needs to be `closed` to flush out the data"
   ]
  },
  {
   "cell_type": "code",
   "execution_count": 8,
   "id": "3a006a2b-8403-477f-a1f5-a37ea33b160c",
   "metadata": {},
   "outputs": [
    {
     "name": "stdout",
     "output_type": "stream",
     "text": [
      "Enter your model ID from WhyLabs:\n"
     ]
    },
    {
     "name": "stdin",
     "output_type": "stream",
     "text": [
      " model-5\n"
     ]
    },
    {
     "name": "stdout",
     "output_type": "stream",
     "text": [
      "Log data frame for  2021-09-30 04:30:22.845881+00:00\n",
      "Log data frame for  2021-09-29 04:30:25.273786+00:00\n"
     ]
    },
    {
     "name": "stderr",
     "output_type": "stream",
     "text": [
      "Using API key ID: naGzCisIJt\n"
     ]
    },
    {
     "name": "stdout",
     "output_type": "stream",
     "text": [
      "Log data frame for  2021-09-28 04:30:27.638109+00:00\n",
      "Log data frame for  2021-09-27 04:30:29.872950+00:00\n",
      "Log data frame for  2021-09-26 04:30:32.003965+00:00\n",
      "Log data frame for  2021-09-25 04:30:33.789872+00:00\n",
      "Log data frame for  2021-09-24 04:30:36.016256+00:00\n"
     ]
    }
   ],
   "source": [
    "print(\"Enter your model ID from WhyLabs:\")\n",
    "model_id = input()\n",
    "for i, df in enumerate(pdfs):\n",
    "    # walking backwards. Each dataset has to map to a date to show up as a different batch\n",
    "    # in WhyLabs\n",
    "    dt = datetime.datetime.now(tz=datetime.timezone.utc) - datetime.timedelta(days=i)\n",
    "    \n",
    "    # Create new logger for date\n",
    "    with session.logger(tags={\"datasetId\": model_id}, dataset_timestamp=dt) as ylog:\n",
    "        print(\"Log data frame for \", dt)\n",
    "        ylog.log_dataframe(df)"
   ]
  },
  {
   "cell_type": "code",
   "execution_count": 9,
   "id": "4b0ae3f5-395b-4a24-bde3-2779176ab9ee",
   "metadata": {},
   "outputs": [],
   "source": [
    "# Ensure everything is flushed\n",
    "session.close()"
   ]
  },
  {
   "cell_type": "markdown",
   "id": "b2c81d63-f420-4a36-8960-ef093b2f895f",
   "metadata": {},
   "source": [
    "## Voila\n",
    "\n",
    "* Now check the application to see if your **statistics** are in!!\n",
    "* Also, run the above cell again for the same model ID, do you see the statistics changes in WhyLabs? Especially the counters?"
   ]
  }
 ],
 "metadata": {
  "kernelspec": {
   "display_name": "whylogs",
   "language": "python",
   "name": "whylogs"
  },
  "language_info": {
   "codemirror_mode": {
    "name": "ipython",
    "version": 3
   },
   "file_extension": ".py",
   "mimetype": "text/x-python",
   "name": "python",
   "nbconvert_exporter": "python",
   "pygments_lexer": "ipython3",
   "version": "3.8.11"
  }
 },
 "nbformat": 4,
 "nbformat_minor": 5
}
