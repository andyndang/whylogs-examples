{
 "cells": [
  {
   "cell_type": "code",
   "execution_count": 4,
   "metadata": {},
   "outputs": [
    {
     "name": "stdout",
     "output_type": "stream",
     "text": [
      "Defaulting to user installation because normal site-packages is not writeable\n",
      "Requirement already satisfied: whylogs[whylabs]>1.0.9 in /home/jamie/.local/lib/python3.10/site-packages (1.0.10)\n",
      "Requirement already satisfied: flake8==4.0.1 in /home/jamie/.local/lib/python3.10/site-packages (from whylogs[whylabs]>1.0.9) (4.0.1)\n",
      "Requirement already satisfied: typing-extensions in /home/jamie/.local/lib/python3.10/site-packages (from whylogs[whylabs]>1.0.9) (4.3.0)\n",
      "Requirement already satisfied: protobuf>=3.15.5 in /home/jamie/.local/lib/python3.10/site-packages (from whylogs[whylabs]>1.0.9) (4.21.3)\n",
      "Requirement already satisfied: whylogs-sketching>=3.4.1.dev2 in /home/jamie/.local/lib/python3.10/site-packages (from whylogs[whylabs]>1.0.9) (3.4.1.dev2)\n",
      "Collecting whylabs-client<0.4.0,>=0.3.0\n",
      "  Using cached whylabs_client-0.3.0-py3-none-any.whl (183 kB)\n",
      "Requirement already satisfied: pyflakes<2.5.0,>=2.4.0 in /home/jamie/.local/lib/python3.10/site-packages (from flake8==4.0.1->whylogs[whylabs]>1.0.9) (2.4.0)\n",
      "Requirement already satisfied: pycodestyle<2.9.0,>=2.8.0 in /home/jamie/.local/lib/python3.10/site-packages (from flake8==4.0.1->whylogs[whylabs]>1.0.9) (2.8.0)\n",
      "Requirement already satisfied: mccabe<0.7.0,>=0.6.0 in /home/jamie/.local/lib/python3.10/site-packages (from flake8==4.0.1->whylogs[whylabs]>1.0.9) (0.6.1)\n",
      "Requirement already satisfied: urllib3>=1.25.3 in /usr/lib/python3/dist-packages (from whylabs-client<0.4.0,>=0.3.0->whylogs[whylabs]>1.0.9) (1.25.8)\n",
      "Requirement already satisfied: python-dateutil in /home/jamie/.local/lib/python3.10/site-packages (from whylabs-client<0.4.0,>=0.3.0->whylogs[whylabs]>1.0.9) (2.8.2)\n",
      "Requirement already satisfied: six>=1.5 in /usr/lib/python3/dist-packages (from python-dateutil->whylabs-client<0.4.0,>=0.3.0->whylogs[whylabs]>1.0.9) (1.14.0)\n",
      "Installing collected packages: whylabs-client\n",
      "Successfully installed whylabs-client-0.3.0\n",
      "Note: you may need to restart the kernel to use updated packages.\n"
     ]
    }
   ],
   "source": [
    "pip install -U \"whylogs[whylabs]>1.0.9\""
   ]
  },
  {
   "cell_type": "markdown",
   "metadata": {},
   "source": [
    "## ✔️ Setting the Environment Variables\n",
    "\n",
    "In order to send our profile to WhyLabs, let's first set up an account. You can skip this if you already have an account and a model set up.\n",
    "\n",
    "We will need three pieces of information:\n",
    "\n",
    "- API token\n",
    "- Organization ID\n",
    "- Dataset ID (or model-id)\n",
    "\n",
    "Go to https://whylabs.ai/free and grab a free account. You can follow along with the examples if you wish, but if you’re interested in only following this demonstration, you can go ahead and skip the quick start instructions.\n",
    "\n",
    "After that, you’ll be prompted to create an API token. Once you create it, copy and store it locally. The second important information here is your org ID. Take note of it as well. After you get your API Token and Org ID, you can go to https://hub.whylabsapp.com/models to see your projects dashboard. You can create a new project and take note of it's ID (if it's a model project it will look like `model-xxxx`).\n",
    "\n",
    "We'll now set the credentials as environment variables. The WhyLabs Writer will check for the existence of these variables in order to send the profiles to your dashboard."
   ]
  },
  {
   "cell_type": "code",
   "execution_count": 7,
   "metadata": {},
   "outputs": [
    {
     "name": "stdout",
     "output_type": "stream",
     "text": [
      "Enter your WhyLabs Org ID\n",
      "Enter your WhyLabs Dataset ID\n",
      "Enter your WhyLabs API key\n",
      "Using API Key ID:  pUtqnO0hhC\n"
     ]
    }
   ],
   "source": [
    "import getpass\n",
    "import os\n",
    "\n",
    "# set your org-id here - should be something like \"org-xxxx\"\n",
    "print(\"Enter your WhyLabs Org ID\") \n",
    "os.environ[\"WHYLABS_DEFAULT_ORG_ID\"] = input()\n",
    "\n",
    "# set your datased_id (or model_id) here - should be something like \"model-xxxx\"\n",
    "print(\"Enter your WhyLabs Dataset ID\")\n",
    "os.environ[\"WHYLABS_DEFAULT_DATASET_ID\"] = input()\n",
    "\n",
    "\n",
    "# set your API key here\n",
    "print(\"Enter your WhyLabs API key\")\n",
    "os.environ[\"WHYLABS_API_KEY\"] = getpass.getpass()\n",
    "print(\"Using API Key ID: \", os.environ[\"WHYLABS_API_KEY\"][0:10])"
   ]
  },
  {
   "cell_type": "markdown",
   "metadata": {},
   "source": [
    "## Fetching the Data\n",
    "\n",
    "For demonstration, let's use data for transactions from a small retail business:"
   ]
  },
  {
   "cell_type": "code",
   "execution_count": 2,
   "metadata": {},
   "outputs": [
    {
     "data": {
      "text/html": [
       "<div>\n",
       "<style scoped>\n",
       "    .dataframe tbody tr th:only-of-type {\n",
       "        vertical-align: middle;\n",
       "    }\n",
       "\n",
       "    .dataframe tbody tr th {\n",
       "        vertical-align: top;\n",
       "    }\n",
       "\n",
       "    .dataframe thead th {\n",
       "        text-align: right;\n",
       "    }\n",
       "</style>\n",
       "<table border=\"1\" class=\"dataframe\">\n",
       "  <thead>\n",
       "    <tr style=\"text-align: right;\">\n",
       "      <th></th>\n",
       "      <th>Transaction ID</th>\n",
       "      <th>Customer ID</th>\n",
       "      <th>Quantity</th>\n",
       "      <th>Item Price</th>\n",
       "      <th>Total Tax</th>\n",
       "      <th>Total Amount</th>\n",
       "      <th>Store Type</th>\n",
       "      <th>Product Category</th>\n",
       "      <th>Product Subcategory</th>\n",
       "      <th>Gender</th>\n",
       "      <th>Transaction Type</th>\n",
       "      <th>Age</th>\n",
       "    </tr>\n",
       "  </thead>\n",
       "  <tbody>\n",
       "    <tr>\n",
       "      <th>0</th>\n",
       "      <td>T14259136777</td>\n",
       "      <td>C274477</td>\n",
       "      <td>1</td>\n",
       "      <td>148.9</td>\n",
       "      <td>15.6345</td>\n",
       "      <td>164.5345</td>\n",
       "      <td>TeleShop</td>\n",
       "      <td>Electronics</td>\n",
       "      <td>Audio and video</td>\n",
       "      <td>F</td>\n",
       "      <td>Purchase</td>\n",
       "      <td>37.0</td>\n",
       "    </tr>\n",
       "    <tr>\n",
       "      <th>1</th>\n",
       "      <td>T7313351894</td>\n",
       "      <td>C267568</td>\n",
       "      <td>4</td>\n",
       "      <td>48.1</td>\n",
       "      <td>20.2020</td>\n",
       "      <td>212.6020</td>\n",
       "      <td>Flagship store</td>\n",
       "      <td>Home and kitchen</td>\n",
       "      <td>Furnishing</td>\n",
       "      <td>M</td>\n",
       "      <td>Purchase</td>\n",
       "      <td>25.0</td>\n",
       "    </tr>\n",
       "    <tr>\n",
       "      <th>2</th>\n",
       "      <td>T37745642681</td>\n",
       "      <td>C267098</td>\n",
       "      <td>1</td>\n",
       "      <td>10.9</td>\n",
       "      <td>1.1445</td>\n",
       "      <td>12.0445</td>\n",
       "      <td>Flagship store</td>\n",
       "      <td>Footwear</td>\n",
       "      <td>Mens</td>\n",
       "      <td>F</td>\n",
       "      <td>Purchase</td>\n",
       "      <td>42.0</td>\n",
       "    </tr>\n",
       "    <tr>\n",
       "      <th>3</th>\n",
       "      <td>T13861409908</td>\n",
       "      <td>C271608</td>\n",
       "      <td>2</td>\n",
       "      <td>135.2</td>\n",
       "      <td>28.3920</td>\n",
       "      <td>298.7920</td>\n",
       "      <td>MBR</td>\n",
       "      <td>Footwear</td>\n",
       "      <td>Mens</td>\n",
       "      <td>F</td>\n",
       "      <td>Purchase</td>\n",
       "      <td>43.0</td>\n",
       "    </tr>\n",
       "    <tr>\n",
       "      <th>4</th>\n",
       "      <td>T58956348529</td>\n",
       "      <td>C272484</td>\n",
       "      <td>4</td>\n",
       "      <td>144.3</td>\n",
       "      <td>60.6060</td>\n",
       "      <td>637.8060</td>\n",
       "      <td>TeleShop</td>\n",
       "      <td>Clothing</td>\n",
       "      <td>Mens</td>\n",
       "      <td>F</td>\n",
       "      <td>Purchase</td>\n",
       "      <td>39.0</td>\n",
       "    </tr>\n",
       "  </tbody>\n",
       "</table>\n",
       "</div>"
      ],
      "text/plain": [
       "  Transaction ID Customer ID  Quantity  Item Price  Total Tax  Total Amount  \\\n",
       "0   T14259136777     C274477         1       148.9    15.6345      164.5345   \n",
       "1    T7313351894     C267568         4        48.1    20.2020      212.6020   \n",
       "2   T37745642681     C267098         1        10.9     1.1445       12.0445   \n",
       "3   T13861409908     C271608         2       135.2    28.3920      298.7920   \n",
       "4   T58956348529     C272484         4       144.3    60.6060      637.8060   \n",
       "\n",
       "       Store Type  Product Category Product Subcategory Gender  \\\n",
       "0        TeleShop       Electronics     Audio and video      F   \n",
       "1  Flagship store  Home and kitchen          Furnishing      M   \n",
       "2  Flagship store          Footwear                Mens      F   \n",
       "3             MBR          Footwear                Mens      F   \n",
       "4        TeleShop          Clothing                Mens      F   \n",
       "\n",
       "  Transaction Type   Age  \n",
       "0         Purchase  37.0  \n",
       "1         Purchase  25.0  \n",
       "2         Purchase  42.0  \n",
       "3         Purchase  43.0  \n",
       "4         Purchase  39.0  "
      ]
     },
     "execution_count": 2,
     "metadata": {},
     "output_type": "execute_result"
    }
   ],
   "source": [
    "import pandas as pd\n",
    "\n",
    "csv_url = \"https://whylabs-public.s3.us-west-2.amazonaws.com/datasets/tour/current.csv\"\n",
    "df = pd.read_csv(csv_url)\n",
    "\n",
    "df.head()"
   ]
  },
  {
   "cell_type": "markdown",
   "metadata": {},
   "source": [
    "## 📊 Profiling the Data\n",
    "\n",
    "Let's profile the data with whylogs to create a profile to use as a reference:"
   ]
  },
  {
   "cell_type": "code",
   "execution_count": 3,
   "metadata": {},
   "outputs": [
    {
     "name": "stderr",
     "output_type": "stream",
     "text": [
      "No timezone set in the datetime_timestamp object. Default to local timezone\n"
     ]
    },
    {
     "name": "stdout",
     "output_type": "stream",
     "text": [
      "1.0.10\n"
     ]
    }
   ],
   "source": [
    "import whylogs as why\n",
    "from datetime import datetime\n",
    "\n",
    "print(why.__version__)\n",
    "\n",
    "current_date = datetime.now()\n",
    "reference_profile = why.log(df).profile()\n",
    "reference_profile.set_dataset_timestamp(current_date)"
   ]
  },
  {
   "cell_type": "markdown",
   "metadata": {},
   "source": [
    "The reference profile can be uploaded using a whylabs_client directly. First, we need to reference the profile as a file on disk, so write it out."
   ]
  },
  {
   "cell_type": "code",
   "execution_count": 6,
   "metadata": {},
   "outputs": [
    {
     "name": "stdout",
     "output_type": "stream",
     "text": [
      "Reference profile written to temporary file in preparation to upload to Whylabs as a reference profile: /tmp/tmpzf8lvtj6/reference-profile.bin\n"
     ]
    }
   ],
   "source": [
    "import tempfile\n",
    "\n",
    "# write out the profile we just \n",
    "tmp_dir = tempfile.mkdtemp()\n",
    "profile_path = os.path.join(tmp_dir, \"reference-profile.bin\")\n",
    "reference_profile.view().write(profile_path)\n",
    "print(f\"Reference profile written to temporary file in preparation to upload to Whylabs as a reference profile: {profile_path}\")"
   ]
  },
  {
   "cell_type": "code",
   "execution_count": 10,
   "metadata": {},
   "outputs": [
    {
     "name": "stdout",
     "output_type": "stream",
     "text": [
      "Using API key ID: pUtqnO0hhC and endpoint https://songbird.development.whylabsdev.com\n",
      "Making initial call to log_reference to get upload url for demo-reference-profile-in-v1 and in [org-e2qTar] for [model-5] using request: {'alias': 'demo-reference-profile-in-v1', 'dataset_timestamp': 1660351684528}\n",
      "got async_result from log_reference, upload url is: https://development-songbird-20201028054020481800000001.s3.us-west-2.amazonaws.com/reference-profiles/2022-08-13/org-e2qTar-model-5-NnxWQKii\n",
      "About to upload reference profile...\n",
      "Done uploading reference profile with alias: demo-reference-profile-in-v1 to: https://development-songbird-20201028054020481800000001.s3.us-west-2.amazonaws.com/reference-profiles/2022-08-13/org-e2qTar-model-5-NnxWQKii with API token ID: pUtqnO0hhC\n"
     ]
    }
   ],
   "source": [
    "import requests\n",
    "import whylabs_client\n",
    "from whylabs_client.api.log_api import LogApi\n",
    "from whylabs_client.model.log_reference_request import LogReferenceRequest\n",
    "\n",
    "# Now setup some of the inputs required to make the request to upload to Whylabs using the whylabs_client\n",
    "whylabs_api_endpoint = \"https://songbird.development.whylabsdev.com\" # \"https://api.whylabsapp.com\"\n",
    "reference_profile_alias = \"demo-reference-profile-in-v1\"\n",
    "api_key = os.environ[\"WHYLABS_API_KEY\"]\n",
    "print(f\"Using API key ID: {api_key[:10]} and endpoint {whylabs_api_endpoint}\")\n",
    "config = whylabs_client.Configuration(host=whylabs_api_endpoint, api_key={\"ApiKeyAuth\": api_key}, discard_unknown_keys=True)\n",
    "api_log_client = whylabs_client.ApiClient(config)\n",
    "log_api = LogApi(api_log_client)\n",
    "\n",
    "org_id = os.environ.get(\"WHYLABS_DEFAULT_ORG_ID\")\n",
    "dataset_id = os.environ.get(\"WHYLABS_DEFAULT_DATASET_ID\")\n",
    "dataset_timestamp = int(reference_profile.dataset_timestamp.timestamp() * 1000)\n",
    "alias = reference_profile_alias\n",
    "\n",
    "try:\n",
    "    with open(profile_path, \"rb\") as f:\n",
    "        request = LogReferenceRequest(dataset_timestamp=dataset_timestamp, alias=alias)\n",
    "        print(f\"Making initial call to log_reference to get upload url for {alias} and in [{org_id}] for [{dataset_id}] using request: {request}\")\n",
    "        async_result = log_api.log_reference(org_id=org_id, model_id=dataset_id, log_reference_request=request, async_req=True)\n",
    "        result = async_result.get()\n",
    "        upload_url = result[\"upload_url\"]\n",
    "        print(f\"got async_result from log_reference, upload url is: {upload_url[:140]}\")\n",
    "        print(f\"About to upload reference profile...\")\n",
    "        http_response = requests.put(upload_url, data=f.read())\n",
    "        if http_response.ok:\n",
    "            print(f\"Done uploading reference profile with alias: {alias} to: {upload_url[:140]} with API token ID: {api_key[:10]}\")\n",
    "        else:\n",
    "            print(\n",
    "                f\"Failed to upload reference profile with alias: {alias} to: {upload_url[:140]} with API token ID: {api_key[:10]} to \"\n",
    "                + f\"{whylabs_api_endpoint}: unexpected HTTP status {http_response}\"\n",
    "            )\n",
    "except Exception as e:\n",
    "    print(f\"Failed to upload reference profile: {e}.\")"
   ]
  }
 ],
 "metadata": {
  "kernelspec": {
   "display_name": "Python 3.10.1 64-bit",
   "language": "python",
   "name": "python3"
  },
  "language_info": {
   "codemirror_mode": {
    "name": "ipython",
    "version": 3
   },
   "file_extension": ".py",
   "mimetype": "text/x-python",
   "name": "python",
   "nbconvert_exporter": "python",
   "pygments_lexer": "ipython3",
   "version": "3.10.1"
  },
  "orig_nbformat": 4,
  "vscode": {
   "interpreter": {
    "hash": "97cc609b13305c559618ec78a438abc56230b9381f827f22d070313b9a1f3777"
   }
  }
 },
 "nbformat": 4,
 "nbformat_minor": 2
}
